{
  "cells": [
    {
      "cell_type": "code",
      "execution_count": null,
      "id": "ea56081b",
      "metadata": {
        "id": "ea56081b"
      },
      "outputs": [],
      "source": [
        "import numpy as np\n",
        "import pandas as pd\n",
        "import matplotlib.pyplot as plt\n",
        "import seaborn as sns"
      ]
    },
    {
      "cell_type": "markdown",
      "id": "47b4ae42",
      "metadata": {
        "id": "47b4ae42"
      },
      "source": [
        "## 1. Download the dataset: Dataset\n",
        "## 2. Load the dataset into the tool."
      ]
    },
    {
      "cell_type": "code",
      "execution_count": null,
      "id": "24091a44",
      "metadata": {
        "id": "24091a44"
      },
      "outputs": [],
      "source": [
        "data=pd.read_csv(\"Mall_Customers.csv\")"
      ]
    },
    {
      "cell_type": "markdown",
      "id": "8d5ea92f",
      "metadata": {
        "id": "8d5ea92f"
      },
      "source": [
        "# 3. Perform Below Visualizations.\n",
        "# ∙ Univariate Analysis\n",
        "# ∙ Bi-Variate Analysis\n",
        "# ∙ Multi-Variate Analysis"
      ]
    },
    {
      "cell_type": "code",
      "execution_count": null,
      "id": "c259fdf3",
      "metadata": {
        "id": "c259fdf3",
        "outputId": "edd2feb0-ba49-46ea-92e7-d8a7a07fae03",
        "colab": {
          "base_uri": "https://localhost:8080/",
          "height": 206
        }
      },
      "outputs": [
        {
          "output_type": "execute_result",
          "data": {
            "text/plain": [
              "   CustomerID  Gender  Age  Annual Income (k$)  Spending Score (1-100)\n",
              "0           1    Male   19                  15                      39\n",
              "1           2    Male   21                  15                      81\n",
              "2           3  Female   20                  16                       6\n",
              "3           4  Female   23                  16                      77\n",
              "4           5  Female   31                  17                      40"
            ],
            "text/html": [
              "\n",
              "  <div id=\"df-14182b39-1cab-476d-8450-512f6fc4bc61\">\n",
              "    <div class=\"colab-df-container\">\n",
              "      <div>\n",
              "<style scoped>\n",
              "    .dataframe tbody tr th:only-of-type {\n",
              "        vertical-align: middle;\n",
              "    }\n",
              "\n",
              "    .dataframe tbody tr th {\n",
              "        vertical-align: top;\n",
              "    }\n",
              "\n",
              "    .dataframe thead th {\n",
              "        text-align: right;\n",
              "    }\n",
              "</style>\n",
              "<table border=\"1\" class=\"dataframe\">\n",
              "  <thead>\n",
              "    <tr style=\"text-align: right;\">\n",
              "      <th></th>\n",
              "      <th>CustomerID</th>\n",
              "      <th>Gender</th>\n",
              "      <th>Age</th>\n",
              "      <th>Annual Income (k$)</th>\n",
              "      <th>Spending Score (1-100)</th>\n",
              "    </tr>\n",
              "  </thead>\n",
              "  <tbody>\n",
              "    <tr>\n",
              "      <th>0</th>\n",
              "      <td>1</td>\n",
              "      <td>Male</td>\n",
              "      <td>19</td>\n",
              "      <td>15</td>\n",
              "      <td>39</td>\n",
              "    </tr>\n",
              "    <tr>\n",
              "      <th>1</th>\n",
              "      <td>2</td>\n",
              "      <td>Male</td>\n",
              "      <td>21</td>\n",
              "      <td>15</td>\n",
              "      <td>81</td>\n",
              "    </tr>\n",
              "    <tr>\n",
              "      <th>2</th>\n",
              "      <td>3</td>\n",
              "      <td>Female</td>\n",
              "      <td>20</td>\n",
              "      <td>16</td>\n",
              "      <td>6</td>\n",
              "    </tr>\n",
              "    <tr>\n",
              "      <th>3</th>\n",
              "      <td>4</td>\n",
              "      <td>Female</td>\n",
              "      <td>23</td>\n",
              "      <td>16</td>\n",
              "      <td>77</td>\n",
              "    </tr>\n",
              "    <tr>\n",
              "      <th>4</th>\n",
              "      <td>5</td>\n",
              "      <td>Female</td>\n",
              "      <td>31</td>\n",
              "      <td>17</td>\n",
              "      <td>40</td>\n",
              "    </tr>\n",
              "  </tbody>\n",
              "</table>\n",
              "</div>\n",
              "      <button class=\"colab-df-convert\" onclick=\"convertToInteractive('df-14182b39-1cab-476d-8450-512f6fc4bc61')\"\n",
              "              title=\"Convert this dataframe to an interactive table.\"\n",
              "              style=\"display:none;\">\n",
              "        \n",
              "  <svg xmlns=\"http://www.w3.org/2000/svg\" height=\"24px\"viewBox=\"0 0 24 24\"\n",
              "       width=\"24px\">\n",
              "    <path d=\"M0 0h24v24H0V0z\" fill=\"none\"/>\n",
              "    <path d=\"M18.56 5.44l.94 2.06.94-2.06 2.06-.94-2.06-.94-.94-2.06-.94 2.06-2.06.94zm-11 1L8.5 8.5l.94-2.06 2.06-.94-2.06-.94L8.5 2.5l-.94 2.06-2.06.94zm10 10l.94 2.06.94-2.06 2.06-.94-2.06-.94-.94-2.06-.94 2.06-2.06.94z\"/><path d=\"M17.41 7.96l-1.37-1.37c-.4-.4-.92-.59-1.43-.59-.52 0-1.04.2-1.43.59L10.3 9.45l-7.72 7.72c-.78.78-.78 2.05 0 2.83L4 21.41c.39.39.9.59 1.41.59.51 0 1.02-.2 1.41-.59l7.78-7.78 2.81-2.81c.8-.78.8-2.07 0-2.86zM5.41 20L4 18.59l7.72-7.72 1.47 1.35L5.41 20z\"/>\n",
              "  </svg>\n",
              "      </button>\n",
              "      \n",
              "  <style>\n",
              "    .colab-df-container {\n",
              "      display:flex;\n",
              "      flex-wrap:wrap;\n",
              "      gap: 12px;\n",
              "    }\n",
              "\n",
              "    .colab-df-convert {\n",
              "      background-color: #E8F0FE;\n",
              "      border: none;\n",
              "      border-radius: 50%;\n",
              "      cursor: pointer;\n",
              "      display: none;\n",
              "      fill: #1967D2;\n",
              "      height: 32px;\n",
              "      padding: 0 0 0 0;\n",
              "      width: 32px;\n",
              "    }\n",
              "\n",
              "    .colab-df-convert:hover {\n",
              "      background-color: #E2EBFA;\n",
              "      box-shadow: 0px 1px 2px rgba(60, 64, 67, 0.3), 0px 1px 3px 1px rgba(60, 64, 67, 0.15);\n",
              "      fill: #174EA6;\n",
              "    }\n",
              "\n",
              "    [theme=dark] .colab-df-convert {\n",
              "      background-color: #3B4455;\n",
              "      fill: #D2E3FC;\n",
              "    }\n",
              "\n",
              "    [theme=dark] .colab-df-convert:hover {\n",
              "      background-color: #434B5C;\n",
              "      box-shadow: 0px 1px 3px 1px rgba(0, 0, 0, 0.15);\n",
              "      filter: drop-shadow(0px 1px 2px rgba(0, 0, 0, 0.3));\n",
              "      fill: #FFFFFF;\n",
              "    }\n",
              "  </style>\n",
              "\n",
              "      <script>\n",
              "        const buttonEl =\n",
              "          document.querySelector('#df-14182b39-1cab-476d-8450-512f6fc4bc61 button.colab-df-convert');\n",
              "        buttonEl.style.display =\n",
              "          google.colab.kernel.accessAllowed ? 'block' : 'none';\n",
              "\n",
              "        async function convertToInteractive(key) {\n",
              "          const element = document.querySelector('#df-14182b39-1cab-476d-8450-512f6fc4bc61');\n",
              "          const dataTable =\n",
              "            await google.colab.kernel.invokeFunction('convertToInteractive',\n",
              "                                                     [key], {});\n",
              "          if (!dataTable) return;\n",
              "\n",
              "          const docLinkHtml = 'Like what you see? Visit the ' +\n",
              "            '<a target=\"_blank\" href=https://colab.research.google.com/notebooks/data_table.ipynb>data table notebook</a>'\n",
              "            + ' to learn more about interactive tables.';\n",
              "          element.innerHTML = '';\n",
              "          dataTable['output_type'] = 'display_data';\n",
              "          await google.colab.output.renderOutput(dataTable, element);\n",
              "          const docLink = document.createElement('div');\n",
              "          docLink.innerHTML = docLinkHtml;\n",
              "          element.appendChild(docLink);\n",
              "        }\n",
              "      </script>\n",
              "    </div>\n",
              "  </div>\n",
              "  "
            ]
          },
          "metadata": {},
          "execution_count": 4
        }
      ],
      "source": [
        "data.head()"
      ]
    },
    {
      "cell_type": "code",
      "execution_count": null,
      "id": "269f726c",
      "metadata": {
        "id": "269f726c"
      },
      "outputs": [],
      "source": [
        "data.rename(columns={\"CustomerID\":\"customer_id\",\"Gender\":\"gender\",\"Age\":\"age\",\"Annual Income (k$)\":\"annual_income\",\n",
        "                     \"Spending Score (1-100)\":\"spending_scores\"},inplace=True)"
      ]
    },
    {
      "cell_type": "code",
      "execution_count": null,
      "id": "b4e5ea39",
      "metadata": {
        "scrolled": false,
        "id": "b4e5ea39",
        "outputId": "cb3b1941-af8e-47b8-81a5-52e65749cf10",
        "colab": {
          "base_uri": "https://localhost:8080/",
          "height": 610
        }
      },
      "outputs": [
        {
          "output_type": "display_data",
          "data": {
            "text/plain": [
              "<Figure size 720x720 with 1 Axes>"
            ],
            "image/png": "[encoded data removed]"
          },
          "metadata": {
            "needs_background": "light"
          }
        }
      ],
      "source": [
        "temp = pd.concat([data['age'], data['gender']], axis=1)\n",
        "\n",
        "f, ax = plt.subplots(figsize=(10,10))\n",
        "fig = sns.boxenplot(x='gender', y=\"age\", data=data)\n",
        "fig.axis(ymin=0, ymax=100);"
      ]
    },
    {
      "cell_type": "markdown",
      "id": "018788a7",
      "metadata": {
        "id": "018788a7"
      },
      "source": [
        "**ANALYSIS**\n",
        "- There is no difference in age of rings for male and female (18-70)."
      ]
    },
    {
      "cell_type": "markdown",
      "id": "40fd2d89",
      "metadata": {
        "id": "40fd2d89"
      },
      "source": [
        "**Count plot**"
      ]
    },
    {
      "cell_type": "code",
      "execution_count": null,
      "id": "41b37d04",
      "metadata": {
        "id": "41b37d04",
        "outputId": "9e2ac87d-e1cd-4da6-ab8f-d3ef51f35681",
        "colab": {
          "base_uri": "https://localhost:8080/",
          "height": 296
        }
      },
      "outputs": [
        {
          "output_type": "execute_result",
          "data": {
            "text/plain": [
              "<matplotlib.axes._subplots.AxesSubplot at 0x7ff6125867d0>"
            ]
          },
          "metadata": {},
          "execution_count": 7
        },
        {
          "output_type": "display_data",
          "data": {
            "text/plain": [
              "<Figure size 432x288 with 1 Axes>"
            ],
            "image/png": "[encoded data removed]"
          },
          "metadata": {
            "needs_background": "light"
          }
        }
      ],
      "source": [
        "sns.boxplot(x=data['gender'],y=data['spending_scores'])"
      ]
    },
    {
      "cell_type": "code",
      "execution_count": null,
      "id": "b870adef",
      "metadata": {
        "id": "b870adef",
        "outputId": "65e17363-6c19-4f5a-a9b9-6f5e3130a642",
        "colab": {
          "base_uri": "https://localhost:8080/",
          "height": 296
        }
      },
      "outputs": [
        {
          "output_type": "execute_result",
          "data": {
            "text/plain": [
              "<matplotlib.axes._subplots.AxesSubplot at 0x7ff6120539d0>"
            ]
          },
          "metadata": {},
          "execution_count": 8
        },
        {
          "output_type": "display_data",
          "data": {
            "text/plain": [
              "<Figure size 432x288 with 1 Axes>"
            ],
            "image/png": "[encoded data removed]"
          },
          "metadata": {
            "needs_background": "light"
          }
        }
      ],
      "source": [
        "sns.boxplot(x=data['gender'],y=data['annual_income'])"
      ]
    },
    {
      "cell_type": "markdown",
      "id": "31c0df1a",
      "metadata": {
        "id": "31c0df1a"
      },
      "source": [
        "**Coorelation Plot**"
      ]
    },
    {
      "cell_type": "code",
      "execution_count": null,
      "id": "a6f5ff8b",
      "metadata": {
        "id": "a6f5ff8b",
        "outputId": "ec260b8e-760d-41ce-c7cf-bcceab2df7d6",
        "colab": {
          "base_uri": "https://localhost:8080/",
          "height": 488
        }
      },
      "outputs": [
        {
          "output_type": "display_data",
          "data": {
            "text/plain": [
              "<Figure size 576x576 with 2 Axes>"
            ],
            "image/png": "[encoded data removed]"
          },
          "metadata": {
            "needs_background": "light"
          }
        }
      ],
      "source": [
        "corr=data.corr()\n",
        "plt.figure(figsize=(8,8))\n",
        "sn=sns.heatmap(corr,vmin=-1,center=0, annot = True, cmap = 'mako')"
      ]
    },
    {
      "cell_type": "code",
      "execution_count": null,
      "id": "4e0c432e",
      "metadata": {
        "id": "4e0c432e",
        "outputId": "05fa3cd0-8980-4b7c-817d-f13ed9407b19",
        "colab": {
          "base_uri": "https://localhost:8080/",
          "height": 743
        }
      },
      "outputs": [
        {
          "output_type": "execute_result",
          "data": {
            "text/plain": [
              "<seaborn.axisgrid.PairGrid at 0x7ff611edba50>"
            ]
          },
          "metadata": {},
          "execution_count": 10
        },
        {
          "output_type": "display_data",
          "data": {
            "text/plain": [
              "<Figure size 720x720 with 20 Axes>"
            ],
            "image/png": "[encoded data removed]"
          },
          "metadata": {
            "needs_background": "light"
          }
        }
      ],
      "source": [
        "sns.pairplot(data)"
      ]
    },
    {
      "cell_type": "markdown",
      "id": "8b8cd666",
      "metadata": {
        "id": "8b8cd666"
      },
      "source": [
        "# 4. Perform descriptive statistics on the dataset.\n"
      ]
    },
    {
      "cell_type": "code",
      "execution_count": null,
      "id": "b86886d7",
      "metadata": {
        "id": "b86886d7",
        "outputId": "903184c4-891b-43de-fc19-4c1ef22853b7",
        "colab": {
          "base_uri": "https://localhost:8080/",
          "height": 363
        }
      },
      "outputs": [
        {
          "output_type": "execute_result",
          "data": {
            "text/plain": [
              "   customer_id  gender  age  annual_income  spending_scores\n",
              "0            1    Male   19             15               39\n",
              "1            2    Male   21             15               81\n",
              "2            3  Female   20             16                6\n",
              "3            4  Female   23             16               77\n",
              "4            5  Female   31             17               40\n",
              "5            6  Female   22             17               76\n",
              "6            7  Female   35             18                6\n",
              "7            8  Female   23             18               94\n",
              "8            9    Male   64             19                3\n",
              "9           10  Female   30             19               72"
            ],
            "text/html": [
              "\n",
              "  <div id=\"df-b5811d54-285e-4a9d-b2a4-7c8e2fb759a2\">\n",
              "    <div class=\"colab-df-container\">\n",
              "      <div>\n",
              "<style scoped>\n",
              "    .dataframe tbody tr th:only-of-type {\n",
              "        vertical-align: middle;\n",
              "    }\n",
              "\n",
              "    .dataframe tbody tr th {\n",
              "        vertical-align: top;\n",
              "    }\n",
              "\n",
              "    .dataframe thead th {\n",
              "        text-align: right;\n",
              "    }\n",
              "</style>\n",
              "<table border=\"1\" class=\"dataframe\">\n",
              "  <thead>\n",
              "    <tr style=\"text-align: right;\">\n",
              "      <th></th>\n",
              "      <th>customer_id</th>\n",
              "      <th>gender</th>\n",
              "      <th>age</th>\n",
              "      <th>annual_income</th>\n",
              "      <th>spending_scores</th>\n",
              "    </tr>\n",
              "  </thead>\n",
              "  <tbody>\n",
              "    <tr>\n",
              "      <th>0</th>\n",
              "      <td>1</td>\n",
              "      <td>Male</td>\n",
              "      <td>19</td>\n",
              "      <td>15</td>\n",
              "      <td>39</td>\n",
              "    </tr>\n",
              "    <tr>\n",
              "      <th>1</th>\n",
              "      <td>2</td>\n",
              "      <td>Male</td>\n",
              "      <td>21</td>\n",
              "      <td>15</td>\n",
              "      <td>81</td>\n",
              "    </tr>\n",
              "    <tr>\n",
              "      <th>2</th>\n",
              "      <td>3</td>\n",
              "      <td>Female</td>\n",
              "      <td>20</td>\n",
              "      <td>16</td>\n",
              "      <td>6</td>\n",
              "    </tr>\n",
              "    <tr>\n",
              "      <th>3</th>\n",
              "      <td>4</td>\n",
              "      <td>Female</td>\n",
              "      <td>23</td>\n",
              "      <td>16</td>\n",
              "      <td>77</td>\n",
              "    </tr>\n",
              "    <tr>\n",
              "      <th>4</th>\n",
              "      <td>5</td>\n",
              "      <td>Female</td>\n",
              "      <td>31</td>\n",
              "      <td>17</td>\n",
              "      <td>40</td>\n",
              "    </tr>\n",
              "    <tr>\n",
              "      <th>5</th>\n",
              "      <td>6</td>\n",
              "      <td>Female</td>\n",
              "      <td>22</td>\n",
              "      <td>17</td>\n",
              "      <td>76</td>\n",
              "    </tr>\n",
              "    <tr>\n",
              "      <th>6</th>\n",
              "      <td>7</td>\n",
              "      <td>Female</td>\n",
              "      <td>35</td>\n",
              "      <td>18</td>\n",
              "      <td>6</td>\n",
              "    </tr>\n",
              "    <tr>\n",
              "      <th>7</th>\n",
              "      <td>8</td>\n",
              "      <td>Female</td>\n",
              "      <td>23</td>\n",
              "      <td>18</td>\n",
              "      <td>94</td>\n",
              "    </tr>\n",
              "    <tr>\n",
              "      <th>8</th>\n",
              "      <td>9</td>\n",
              "      <td>Male</td>\n",
              "      <td>64</td>\n",
              "      <td>19</td>\n",
              "      <td>3</td>\n",
              "    </tr>\n",
              "    <tr>\n",
              "      <th>9</th>\n",
              "      <td>10</td>\n",
              "      <td>Female</td>\n",
              "      <td>30</td>\n",
              "      <td>19</td>\n",
              "      <td>72</td>\n",
              "    </tr>\n",
              "  </tbody>\n",
              "</table>\n",
              "</div>\n",
              "      <button class=\"colab-df-convert\" onclick=\"convertToInteractive('df-b5811d54-285e-4a9d-b2a4-7c8e2fb759a2')\"\n",
              "              title=\"Convert this dataframe to an interactive table.\"\n",
              "              style=\"display:none;\">\n",
              "        \n",
              "  <svg xmlns=\"http://www.w3.org/2000/svg\" height=\"24px\"viewBox=\"0 0 24 24\"\n",
              "       width=\"24px\">\n",
              "    <path d=\"M0 0h24v24H0V0z\" fill=\"none\"/>\n",
              "    <path d=\"M18.56 5.44l.94 2.06.94-2.06 2.06-.94-2.06-.94-.94-2.06-.94 2.06-2.06.94zm-11 1L8.5 8.5l.94-2.06 2.06-.94-2.06-.94L8.5 2.5l-.94 2.06-2.06.94zm10 10l.94 2.06.94-2.06 2.06-.94-2.06-.94-.94-2.06-.94 2.06-2.06.94z\"/><path d=\"M17.41 7.96l-1.37-1.37c-.4-.4-.92-.59-1.43-.59-.52 0-1.04.2-1.43.59L10.3 9.45l-7.72 7.72c-.78.78-.78 2.05 0 2.83L4 21.41c.39.39.9.59 1.41.59.51 0 1.02-.2 1.41-.59l7.78-7.78 2.81-2.81c.8-.78.8-2.07 0-2.86zM5.41 20L4 18.59l7.72-7.72 1.47 1.35L5.41 20z\"/>\n",
              "  </svg>\n",
              "      </button>\n",
              "      \n",
              "  <style>\n",
              "    .colab-df-container {\n",
              "      display:flex;\n",
              "      flex-wrap:wrap;\n",
              "      gap: 12px;\n",
              "    }\n",
              "\n",
              "    .colab-df-convert {\n",
              "      background-color: #E8F0FE;\n",
              "      border: none;\n",
              "      border-radius: 50%;\n",
              "      cursor: pointer;\n",
              "      display: none;\n",
              "      fill: #1967D2;\n",
              "      height: 32px;\n",
              "      padding: 0 0 0 0;\n",
              "      width: 32px;\n",
              "    }\n",
              "\n",
              "    .colab-df-convert:hover {\n",
              "      background-color: #E2EBFA;\n",
              "      box-shadow: 0px 1px 2px rgba(60, 64, 67, 0.3), 0px 1px 3px 1px rgba(60, 64, 67, 0.15);\n",
              "      fill: #174EA6;\n",
              "    }\n",
              "\n",
              "    [theme=dark] .colab-df-convert {\n",
              "      background-color: #3B4455;\n",
              "      fill: #D2E3FC;\n",
              "    }\n",
              "\n",
              "    [theme=dark] .colab-df-convert:hover {\n",
              "      background-color: #434B5C;\n",
              "      box-shadow: 0px 1px 3px 1px rgba(0, 0, 0, 0.15);\n",
              "      filter: drop-shadow(0px 1px 2px rgba(0, 0, 0, 0.3));\n",
              "      fill: #FFFFFF;\n",
              "    }\n",
              "  </style>\n",
              "\n",
              "      <script>\n",
              "        const buttonEl =\n",
              "          document.querySelector('#df-b5811d54-285e-4a9d-b2a4-7c8e2fb759a2 button.colab-df-convert');\n",
              "        buttonEl.style.display =\n",
              "          google.colab.kernel.accessAllowed ? 'block' : 'none';\n",
              "\n",
              "        async function convertToInteractive(key) {\n",
              "          const element = document.querySelector('#df-b5811d54-285e-4a9d-b2a4-7c8e2fb759a2');\n",
              "          const dataTable =\n",
              "            await google.colab.kernel.invokeFunction('convertToInteractive',\n",
              "                                                     [key], {});\n",
              "          if (!dataTable) return;\n",
              "\n",
              "          const docLinkHtml = 'Like what you see? Visit the ' +\n",
              "            '<a target=\"_blank\" href=https://colab.research.google.com/notebooks/data_table.ipynb>data table notebook</a>'\n",
              "            + ' to learn more about interactive tables.';\n",
              "          element.innerHTML = '';\n",
              "          dataTable['output_type'] = 'display_data';\n",
              "          await google.colab.output.renderOutput(dataTable, element);\n",
              "          const docLink = document.createElement('div');\n",
              "          docLink.innerHTML = docLinkHtml;\n",
              "          element.appendChild(docLink);\n",
              "        }\n",
              "      </script>\n",
              "    </div>\n",
              "  </div>\n",
              "  "
            ]
          },
          "metadata": {},
          "execution_count": 11
        }
      ],
      "source": [
        "data.head(10)"
      ]
    },
    {
      "cell_type": "code",
      "execution_count": null,
      "id": "0da1a01a",
      "metadata": {
        "id": "0da1a01a",
        "outputId": "4e9c4d89-b35e-4179-b49f-071d595786df",
        "colab": {
          "base_uri": "https://localhost:8080/"
        }
      },
      "outputs": [
        {
          "output_type": "execute_result",
          "data": {
            "text/plain": [
              "(200, 5)"
            ]
          },
          "metadata": {},
          "execution_count": 12
        }
      ],
      "source": [
        "data.shape"
      ]
    },
    {
      "cell_type": "code",
      "execution_count": null,
      "id": "dc09c713",
      "metadata": {
        "id": "dc09c713",
        "outputId": "53fed5d9-14bf-488c-80b3-1c9d656672a2",
        "colab": {
          "base_uri": "https://localhost:8080/",
          "height": 300
        }
      },
      "outputs": [
        {
          "output_type": "execute_result",
          "data": {
            "text/plain": [
              "       customer_id         age  annual_income  spending_scores\n",
              "count   200.000000  200.000000     200.000000       200.000000\n",
              "mean    100.500000   38.850000      60.560000        50.200000\n",
              "std      57.879185   13.969007      26.264721        25.823522\n",
              "min       1.000000   18.000000      15.000000         1.000000\n",
              "25%      50.750000   28.750000      41.500000        34.750000\n",
              "50%     100.500000   36.000000      61.500000        50.000000\n",
              "75%     150.250000   49.000000      78.000000        73.000000\n",
              "max     200.000000   70.000000     137.000000        99.000000"
            ],
            "text/html": [
              "\n",
              "  <div id=\"df-520417a8-07ce-467e-9807-d5000dfc6f98\">\n",
              "    <div class=\"colab-df-container\">\n",
              "      <div>\n",
              "<style scoped>\n",
              "    .dataframe tbody tr th:only-of-type {\n",
              "        vertical-align: middle;\n",
              "    }\n",
              "\n",
              "    .dataframe tbody tr th {\n",
              "        vertical-align: top;\n",
              "    }\n",
              "\n",
              "    .dataframe thead th {\n",
              "        text-align: right;\n",
              "    }\n",
              "</style>\n",
              "<table border=\"1\" class=\"dataframe\">\n",
              "  <thead>\n",
              "    <tr style=\"text-align: right;\">\n",
              "      <th></th>\n",
              "      <th>customer_id</th>\n",
              "      <th>age</th>\n",
              "      <th>annual_income</th>\n",
              "      <th>spending_scores</th>\n",
              "    </tr>\n",
              "  </thead>\n",
              "  <tbody>\n",
              "    <tr>\n",
              "      <th>count</th>\n",
              "      <td>200.000000</td>\n",
              "      <td>200.000000</td>\n",
              "      <td>200.000000</td>\n",
              "      <td>200.000000</td>\n",
              "    </tr>\n",
              "    <tr>\n",
              "      <th>mean</th>\n",
              "      <td>100.500000</td>\n",
              "      <td>38.850000</td>\n",
              "      <td>60.560000</td>\n",
              "      <td>50.200000</td>\n",
              "    </tr>\n",
              "    <tr>\n",
              "      <th>std</th>\n",
              "      <td>57.879185</td>\n",
              "      <td>13.969007</td>\n",
              "      <td>26.264721</td>\n",
              "      <td>25.823522</td>\n",
              "    </tr>\n",
              "    <tr>\n",
              "      <th>min</th>\n",
              "      <td>1.000000</td>\n",
              "      <td>18.000000</td>\n",
              "      <td>15.000000</td>\n",
              "      <td>1.000000</td>\n",
              "    </tr>\n",
              "    <tr>\n",
              "      <th>25%</th>\n",
              "      <td>50.750000</td>\n",
              "      <td>28.750000</td>\n",
              "      <td>41.500000</td>\n",
              "      <td>34.750000</td>\n",
              "    </tr>\n",
              "    <tr>\n",
              "      <th>50%</th>\n",
              "      <td>100.500000</td>\n",
              "      <td>36.000000</td>\n",
              "      <td>61.500000</td>\n",
              "      <td>50.000000</td>\n",
              "    </tr>\n",
              "    <tr>\n",
              "      <th>75%</th>\n",
              "      <td>150.250000</td>\n",
              "      <td>49.000000</td>\n",
              "      <td>78.000000</td>\n",
              "      <td>73.000000</td>\n",
              "    </tr>\n",
              "    <tr>\n",
              "      <th>max</th>\n",
              "      <td>200.000000</td>\n",
              "      <td>70.000000</td>\n",
              "      <td>137.000000</td>\n",
              "      <td>99.000000</td>\n",
              "    </tr>\n",
              "  </tbody>\n",
              "</table>\n",
              "</div>\n",
              "      <button class=\"colab-df-convert\" onclick=\"convertToInteractive('df-520417a8-07ce-467e-9807-d5000dfc6f98')\"\n",
              "              title=\"Convert this dataframe to an interactive table.\"\n",
              "              style=\"display:none;\">\n",
              "        \n",
              "  <svg xmlns=\"http://www.w3.org/2000/svg\" height=\"24px\"viewBox=\"0 0 24 24\"\n",
              "       width=\"24px\">\n",
              "    <path d=\"M0 0h24v24H0V0z\" fill=\"none\"/>\n",
              "    <path d=\"M18.56 5.44l.94 2.06.94-2.06 2.06-.94-2.06-.94-.94-2.06-.94 2.06-2.06.94zm-11 1L8.5 8.5l.94-2.06 2.06-.94-2.06-.94L8.5 2.5l-.94 2.06-2.06.94zm10 10l.94 2.06.94-2.06 2.06-.94-2.06-.94-.94-2.06-.94 2.06-2.06.94z\"/><path d=\"M17.41 7.96l-1.37-1.37c-.4-.4-.92-.59-1.43-.59-.52 0-1.04.2-1.43.59L10.3 9.45l-7.72 7.72c-.78.78-.78 2.05 0 2.83L4 21.41c.39.39.9.59 1.41.59.51 0 1.02-.2 1.41-.59l7.78-7.78 2.81-2.81c.8-.78.8-2.07 0-2.86zM5.41 20L4 18.59l7.72-7.72 1.47 1.35L5.41 20z\"/>\n",
              "  </svg>\n",
              "      </button>\n",
              "      \n",
              "  <style>\n",
              "    .colab-df-container {\n",
              "      display:flex;\n",
              "      flex-wrap:wrap;\n",
              "      gap: 12px;\n",
              "    }\n",
              "\n",
              "    .colab-df-convert {\n",
              "      background-color: #E8F0FE;\n",
              "      border: none;\n",
              "      border-radius: 50%;\n",
              "      cursor: pointer;\n",
              "      display: none;\n",
              "      fill: #1967D2;\n",
              "      height: 32px;\n",
              "      padding: 0 0 0 0;\n",
              "      width: 32px;\n",
              "    }\n",
              "\n",
              "    .colab-df-convert:hover {\n",
              "      background-color: #E2EBFA;\n",
              "      box-shadow: 0px 1px 2px rgba(60, 64, 67, 0.3), 0px 1px 3px 1px rgba(60, 64, 67, 0.15);\n",
              "      fill: #174EA6;\n",
              "    }\n",
              "\n",
              "    [theme=dark] .colab-df-convert {\n",
              "      background-color: #3B4455;\n",
              "      fill: #D2E3FC;\n",
              "    }\n",
              "\n",
              "    [theme=dark] .colab-df-convert:hover {\n",
              "      background-color: #434B5C;\n",
              "      box-shadow: 0px 1px 3px 1px rgba(0, 0, 0, 0.15);\n",
              "      filter: drop-shadow(0px 1px 2px rgba(0, 0, 0, 0.3));\n",
              "      fill: #FFFFFF;\n",
              "    }\n",
              "  </style>\n",
              "\n",
              "      <script>\n",
              "        const buttonEl =\n",
              "          document.querySelector('#df-520417a8-07ce-467e-9807-d5000dfc6f98 button.colab-df-convert');\n",
              "        buttonEl.style.display =\n",
              "          google.colab.kernel.accessAllowed ? 'block' : 'none';\n",
              "\n",
              "        async function convertToInteractive(key) {\n",
              "          const element = document.querySelector('#df-520417a8-07ce-467e-9807-d5000dfc6f98');\n",
              "          const dataTable =\n",
              "            await google.colab.kernel.invokeFunction('convertToInteractive',\n",
              "                                                     [key], {});\n",
              "          if (!dataTable) return;\n",
              "\n",
              "          const docLinkHtml = 'Like what you see? Visit the ' +\n",
              "            '<a target=\"_blank\" href=https://colab.research.google.com/notebooks/data_table.ipynb>data table notebook</a>'\n",
              "            + ' to learn more about interactive tables.';\n",
              "          element.innerHTML = '';\n",
              "          dataTable['output_type'] = 'display_data';\n",
              "          await google.colab.output.renderOutput(dataTable, element);\n",
              "          const docLink = document.createElement('div');\n",
              "          docLink.innerHTML = docLinkHtml;\n",
              "          element.appendChild(docLink);\n",
              "        }\n",
              "      </script>\n",
              "    </div>\n",
              "  </div>\n",
              "  "
            ]
          },
          "metadata": {},
          "execution_count": 13
        }
      ],
      "source": [
        "data.describe()"
      ]
    },
    {
      "cell_type": "code",
      "execution_count": null,
      "id": "006f523f",
      "metadata": {
        "id": "006f523f",
        "outputId": "3df1c9e2-76b9-49a7-b0d5-5c8f87a8c854",
        "colab": {
          "base_uri": "https://localhost:8080/"
        }
      },
      "outputs": [
        {
          "output_type": "stream",
          "name": "stdout",
          "text": [
            "<class 'pandas.core.frame.DataFrame'>\n",
            "RangeIndex: 200 entries, 0 to 199\n",
            "Data columns (total 5 columns):\n",
            " #   Column           Non-Null Count  Dtype \n",
            "---  ------           --------------  ----- \n",
            " 0   customer_id      200 non-null    int64 \n",
            " 1   gender           200 non-null    object\n",
            " 2   age              200 non-null    int64 \n",
            " 3   annual_income    200 non-null    int64 \n",
            " 4   spending_scores  200 non-null    int64 \n",
            "dtypes: int64(4), object(1)\n",
            "memory usage: 7.9+ KB\n"
          ]
        }
      ],
      "source": [
        "data.info()"
      ]
    },
    {
      "cell_type": "markdown",
      "id": "95676c22",
      "metadata": {
        "id": "95676c22"
      },
      "source": [
        "## 5. Check for Missing values and deal with them.\n"
      ]
    },
    {
      "cell_type": "code",
      "execution_count": null,
      "id": "90a87880",
      "metadata": {
        "id": "90a87880",
        "outputId": "eb73c426-1c62-4a50-a5dd-a0f8fa3eb521",
        "colab": {
          "base_uri": "https://localhost:8080/",
          "height": 49
        }
      },
      "outputs": [
        {
          "output_type": "execute_result",
          "data": {
            "text/plain": [
              "Empty DataFrame\n",
              "Columns: [customer_id, gender, age, annual_income, spending_scores]\n",
              "Index: []"
            ],
            "text/html": [
              "\n",
              "  <div id=\"df-01b8d27e-b914-46c5-b90b-bfb682331974\">\n",
              "    <div class=\"colab-df-container\">\n",
              "      <div>\n",
              "<style scoped>\n",
              "    .dataframe tbody tr th:only-of-type {\n",
              "        vertical-align: middle;\n",
              "    }\n",
              "\n",
              "    .dataframe tbody tr th {\n",
              "        vertical-align: top;\n",
              "    }\n",
              "\n",
              "    .dataframe thead th {\n",
              "        text-align: right;\n",
              "    }\n",
              "</style>\n",
              "<table border=\"1\" class=\"dataframe\">\n",
              "  <thead>\n",
              "    <tr style=\"text-align: right;\">\n",
              "      <th></th>\n",
              "      <th>customer_id</th>\n",
              "      <th>gender</th>\n",
              "      <th>age</th>\n",
              "      <th>annual_income</th>\n",
              "      <th>spending_scores</th>\n",
              "    </tr>\n",
              "  </thead>\n",
              "  <tbody>\n",
              "  </tbody>\n",
              "</table>\n",
              "</div>\n",
              "      <button class=\"colab-df-convert\" onclick=\"convertToInteractive('df-01b8d27e-b914-46c5-b90b-bfb682331974')\"\n",
              "              title=\"Convert this dataframe to an interactive table.\"\n",
              "              style=\"display:none;\">\n",
              "        \n",
              "  <svg xmlns=\"http://www.w3.org/2000/svg\" height=\"24px\"viewBox=\"0 0 24 24\"\n",
              "       width=\"24px\">\n",
              "    <path d=\"M0 0h24v24H0V0z\" fill=\"none\"/>\n",
              "    <path d=\"M18.56 5.44l.94 2.06.94-2.06 2.06-.94-2.06-.94-.94-2.06-.94 2.06-2.06.94zm-11 1L8.5 8.5l.94-2.06 2.06-.94-2.06-.94L8.5 2.5l-.94 2.06-2.06.94zm10 10l.94 2.06.94-2.06 2.06-.94-2.06-.94-.94-2.06-.94 2.06-2.06.94z\"/><path d=\"M17.41 7.96l-1.37-1.37c-.4-.4-.92-.59-1.43-.59-.52 0-1.04.2-1.43.59L10.3 9.45l-7.72 7.72c-.78.78-.78 2.05 0 2.83L4 21.41c.39.39.9.59 1.41.59.51 0 1.02-.2 1.41-.59l7.78-7.78 2.81-2.81c.8-.78.8-2.07 0-2.86zM5.41 20L4 18.59l7.72-7.72 1.47 1.35L5.41 20z\"/>\n",
              "  </svg>\n",
              "      </button>\n",
              "      \n",
              "  <style>\n",
              "    .colab-df-container {\n",
              "      display:flex;\n",
              "      flex-wrap:wrap;\n",
              "      gap: 12px;\n",
              "    }\n",
              "\n",
              "    .colab-df-convert {\n",
              "      background-color: #E8F0FE;\n",
              "      border: none;\n",
              "      border-radius: 50%;\n",
              "      cursor: pointer;\n",
              "      display: none;\n",
              "      fill: #1967D2;\n",
              "      height: 32px;\n",
              "      padding: 0 0 0 0;\n",
              "      width: 32px;\n",
              "    }\n",
              "\n",
              "    .colab-df-convert:hover {\n",
              "      background-color: #E2EBFA;\n",
              "      box-shadow: 0px 1px 2px rgba(60, 64, 67, 0.3), 0px 1px 3px 1px rgba(60, 64, 67, 0.15);\n",
              "      fill: #174EA6;\n",
              "    }\n",
              "\n",
              "    [theme=dark] .colab-df-convert {\n",
              "      background-color: #3B4455;\n",
              "      fill: #D2E3FC;\n",
              "    }\n",
              "\n",
              "    [theme=dark] .colab-df-convert:hover {\n",
              "      background-color: #434B5C;\n",
              "      box-shadow: 0px 1px 3px 1px rgba(0, 0, 0, 0.15);\n",
              "      filter: drop-shadow(0px 1px 2px rgba(0, 0, 0, 0.3));\n",
              "      fill: #FFFFFF;\n",
              "    }\n",
              "  </style>\n",
              "\n",
              "      <script>\n",
              "        const buttonEl =\n",
              "          document.querySelector('#df-01b8d27e-b914-46c5-b90b-bfb682331974 button.colab-df-convert');\n",
              "        buttonEl.style.display =\n",
              "          google.colab.kernel.accessAllowed ? 'block' : 'none';\n",
              "\n",
              "        async function convertToInteractive(key) {\n",
              "          const element = document.querySelector('#df-01b8d27e-b914-46c5-b90b-bfb682331974');\n",
              "          const dataTable =\n",
              "            await google.colab.kernel.invokeFunction('convertToInteractive',\n",
              "                                                     [key], {});\n",
              "          if (!dataTable) return;\n",
              "\n",
              "          const docLinkHtml = 'Like what you see? Visit the ' +\n",
              "            '<a target=\"_blank\" href=https://colab.research.google.com/notebooks/data_table.ipynb>data table notebook</a>'\n",
              "            + ' to learn more about interactive tables.';\n",
              "          element.innerHTML = '';\n",
              "          dataTable['output_type'] = 'display_data';\n",
              "          await google.colab.output.renderOutput(dataTable, element);\n",
              "          const docLink = document.createElement('div');\n",
              "          docLink.innerHTML = docLinkHtml;\n",
              "          element.appendChild(docLink);\n",
              "        }\n",
              "      </script>\n",
              "    </div>\n",
              "  </div>\n",
              "  "
            ]
          },
          "metadata": {},
          "execution_count": 15
        }
      ],
      "source": [
        "data[data.duplicated()]"
      ]
    },
    {
      "cell_type": "code",
      "execution_count": null,
      "id": "785dd442",
      "metadata": {
        "scrolled": true,
        "id": "785dd442",
        "outputId": "8f49a4db-d78f-4ef8-ed41-75f62645d380",
        "colab": {
          "base_uri": "https://localhost:8080/"
        }
      },
      "outputs": [
        {
          "output_type": "execute_result",
          "data": {
            "text/plain": [
              "customer_id        0\n",
              "gender             0\n",
              "age                0\n",
              "annual_income      0\n",
              "spending_scores    0\n",
              "dtype: int64"
            ]
          },
          "metadata": {},
          "execution_count": 16
        }
      ],
      "source": [
        "data.isna().sum()"
      ]
    },
    {
      "cell_type": "markdown",
      "id": "b24d7646",
      "metadata": {
        "id": "b24d7646"
      },
      "source": [
        "### there is no missing values and duplicates in dataframe"
      ]
    },
    {
      "cell_type": "markdown",
      "id": "75eea231",
      "metadata": {
        "id": "75eea231"
      },
      "source": [
        "# 6. Find the outliers and replace them outliers"
      ]
    },
    {
      "cell_type": "code",
      "execution_count": null,
      "id": "be90d0c7",
      "metadata": {
        "id": "be90d0c7"
      },
      "outputs": [],
      "source": [
        "for i in data:\n",
        "    if data[i].dtype=='int64':\n",
        "        q1=data[i].quantile(0.25)\n",
        "        q3=data[i].quantile(0.75)\n",
        "        iqr=q3-q1\n",
        "        upper=q3+1.5*iqr\n",
        "        lower=q1-1.5*iqr\n",
        "        data[i]=np.where(data[i] >upper, upper, data[i])\n",
        "        data[i]=np.where(data[i] <lower, lower, data[i])"
      ]
    },
    {
      "cell_type": "markdown",
      "id": "91103383",
      "metadata": {
        "id": "91103383"
      },
      "source": [
        "***After removing outliers, boxplot will be like***"
      ]
    },
    {
      "cell_type": "code",
      "execution_count": null,
      "id": "89f74110",
      "metadata": {
        "id": "89f74110",
        "outputId": "869aae7a-d4e3-4ef6-9233-1f65c718d3b6",
        "colab": {
          "base_uri": "https://localhost:8080/",
          "height": 404
        }
      },
      "outputs": [
        {
          "output_type": "execute_result",
          "data": {
            "text/plain": [
              "{'whiskers': [<matplotlib.lines.Line2D at 0x7ff60fecdf90>,\n",
              "  <matplotlib.lines.Line2D at 0x7ff60fed0510>],\n",
              " 'caps': [<matplotlib.lines.Line2D at 0x7ff60fed0a50>,\n",
              "  <matplotlib.lines.Line2D at 0x7ff60fed0f90>],\n",
              " 'boxes': [<matplotlib.lines.Line2D at 0x7ff60fecda10>],\n",
              " 'medians': [<matplotlib.lines.Line2D at 0x7ff60fed5550>],\n",
              " 'fliers': [<matplotlib.lines.Line2D at 0x7ff60fed5a90>],\n",
              " 'means': []}"
            ]
          },
          "metadata": {},
          "execution_count": 18
        },
        {
          "output_type": "display_data",
          "data": {
            "text/plain": [
              "<Figure size 432x288 with 1 Axes>"
            ],
            "image/png": "[encoded data removed]"
          },
          "metadata": {
            "needs_background": "light"
          }
        }
      ],
      "source": [
        "plt.boxplot(data['age'])"
      ]
    },
    {
      "cell_type": "code",
      "execution_count": null,
      "id": "93dce60a",
      "metadata": {
        "id": "93dce60a",
        "outputId": "e99cb82c-5ca0-4cc9-b06e-77bea545fd37",
        "colab": {
          "base_uri": "https://localhost:8080/",
          "height": 404
        }
      },
      "outputs": [
        {
          "output_type": "execute_result",
          "data": {
            "text/plain": [
              "{'whiskers': [<matplotlib.lines.Line2D at 0x7ff60feb3b10>,\n",
              "  <matplotlib.lines.Line2D at 0x7ff60feb8090>],\n",
              " 'caps': [<matplotlib.lines.Line2D at 0x7ff60feb85d0>,\n",
              "  <matplotlib.lines.Line2D at 0x7ff60feb8b10>],\n",
              " 'boxes': [<matplotlib.lines.Line2D at 0x7ff60feb3590>],\n",
              " 'medians': [<matplotlib.lines.Line2D at 0x7ff60febf0d0>],\n",
              " 'fliers': [<matplotlib.lines.Line2D at 0x7ff60febf610>],\n",
              " 'means': []}"
            ]
          },
          "metadata": {},
          "execution_count": 19
        },
        {
          "output_type": "display_data",
          "data": {
            "text/plain": [
              "<Figure size 432x288 with 1 Axes>"
            ],
            "image/png": "[encoded data removed]"
          },
          "metadata": {
            "needs_background": "light"
          }
        }
      ],
      "source": [
        "plt.boxplot(data['annual_income'])"
      ]
    },
    {
      "cell_type": "code",
      "execution_count": null,
      "id": "47f23311",
      "metadata": {
        "id": "47f23311",
        "outputId": "ba6b1758-5eb2-4bf6-cd01-2764dd57ab9d",
        "colab": {
          "base_uri": "https://localhost:8080/",
          "height": 404
        }
      },
      "outputs": [
        {
          "output_type": "execute_result",
          "data": {
            "text/plain": [
              "{'whiskers': [<matplotlib.lines.Line2D at 0x7ff60fe24490>,\n",
              "  <matplotlib.lines.Line2D at 0x7ff60fe249d0>],\n",
              " 'caps': [<matplotlib.lines.Line2D at 0x7ff60fe24f10>,\n",
              "  <matplotlib.lines.Line2D at 0x7ff60fe2b490>],\n",
              " 'boxes': [<matplotlib.lines.Line2D at 0x7ff60fe1bed0>],\n",
              " 'medians': [<matplotlib.lines.Line2D at 0x7ff60fe2ba10>],\n",
              " 'fliers': [<matplotlib.lines.Line2D at 0x7ff60fe2bf50>],\n",
              " 'means': []}"
            ]
          },
          "metadata": {},
          "execution_count": 20
        },
        {
          "output_type": "display_data",
          "data": {
            "text/plain": [
              "<Figure size 432x288 with 1 Axes>"
            ],
            "image/png": "[encoded data removed]"
          },
          "metadata": {
            "needs_background": "light"
          }
        }
      ],
      "source": [
        "plt.boxplot(data['spending_scores'])"
      ]
    },
    {
      "cell_type": "markdown",
      "id": "ae172bf0",
      "metadata": {
        "id": "ae172bf0"
      },
      "source": [
        "# 7. Check for Categorical columns and perform encoding."
      ]
    },
    {
      "cell_type": "code",
      "execution_count": null,
      "id": "628d53d1",
      "metadata": {
        "id": "628d53d1"
      },
      "outputs": [],
      "source": [
        "from sklearn.preprocessing import LabelEncoder\n",
        "encoder=LabelEncoder()\n",
        "data['gender']=encoder.fit_transform(data['gender'])"
      ]
    },
    {
      "cell_type": "code",
      "execution_count": null,
      "id": "1fa765b2",
      "metadata": {
        "scrolled": true,
        "id": "1fa765b2",
        "outputId": "24fdc211-dd4f-4c1c-e2f4-0d3717874a28",
        "colab": {
          "base_uri": "https://localhost:8080/",
          "height": 206
        }
      },
      "outputs": [
        {
          "output_type": "execute_result",
          "data": {
            "text/plain": [
              "   customer_id  gender   age  annual_income  spending_scores\n",
              "0          1.0    Male  19.0           15.0             39.0\n",
              "1          2.0    Male  21.0           15.0             81.0\n",
              "2          3.0  Female  20.0           16.0              6.0\n",
              "3          4.0  Female  23.0           16.0             77.0\n",
              "4          5.0  Female  31.0           17.0             40.0"
            ],
            "text/html": [
              "\n",
              "  <div id=\"df-00a36394-6cbb-461b-a0d5-2ea4a58f3608\">\n",
              "    <div class=\"colab-df-container\">\n",
              "      <div>\n",
              "<style scoped>\n",
              "    .dataframe tbody tr th:only-of-type {\n",
              "        vertical-align: middle;\n",
              "    }\n",
              "\n",
              "    .dataframe tbody tr th {\n",
              "        vertical-align: top;\n",
              "    }\n",
              "\n",
              "    .dataframe thead th {\n",
              "        text-align: right;\n",
              "    }\n",
              "</style>\n",
              "<table border=\"1\" class=\"dataframe\">\n",
              "  <thead>\n",
              "    <tr style=\"text-align: right;\">\n",
              "      <th></th>\n",
              "      <th>customer_id</th>\n",
              "      <th>gender</th>\n",
              "      <th>age</th>\n",
              "      <th>annual_income</th>\n",
              "      <th>spending_scores</th>\n",
              "    </tr>\n",
              "  </thead>\n",
              "  <tbody>\n",
              "    <tr>\n",
              "      <th>0</th>\n",
              "      <td>1.0</td>\n",
              "      <td>Male</td>\n",
              "      <td>19.0</td>\n",
              "      <td>15.0</td>\n",
              "      <td>39.0</td>\n",
              "    </tr>\n",
              "    <tr>\n",
              "      <th>1</th>\n",
              "      <td>2.0</td>\n",
              "      <td>Male</td>\n",
              "      <td>21.0</td>\n",
              "      <td>15.0</td>\n",
              "      <td>81.0</td>\n",
              "    </tr>\n",
              "    <tr>\n",
              "      <th>2</th>\n",
              "      <td>3.0</td>\n",
              "      <td>Female</td>\n",
              "      <td>20.0</td>\n",
              "      <td>16.0</td>\n",
              "      <td>6.0</td>\n",
              "    </tr>\n",
              "    <tr>\n",
              "      <th>3</th>\n",
              "      <td>4.0</td>\n",
              "      <td>Female</td>\n",
              "      <td>23.0</td>\n",
              "      <td>16.0</td>\n",
              "      <td>77.0</td>\n",
              "    </tr>\n",
              "    <tr>\n",
              "      <th>4</th>\n",
              "      <td>5.0</td>\n",
              "      <td>Female</td>\n",
              "      <td>31.0</td>\n",
              "      <td>17.0</td>\n",
              "      <td>40.0</td>\n",
              "    </tr>\n",
              "  </tbody>\n",
              "</table>\n",
              "</div>\n",
              "      <button class=\"colab-df-convert\" onclick=\"convertToInteractive('df-00a36394-6cbb-461b-a0d5-2ea4a58f3608')\"\n",
              "              title=\"Convert this dataframe to an interactive table.\"\n",
              "              style=\"display:none;\">\n",
              "        \n",
              "  <svg xmlns=\"http://www.w3.org/2000/svg\" height=\"24px\"viewBox=\"0 0 24 24\"\n",
              "       width=\"24px\">\n",
              "    <path d=\"M0 0h24v24H0V0z\" fill=\"none\"/>\n",
              "    <path d=\"M18.56 5.44l.94 2.06.94-2.06 2.06-.94-2.06-.94-.94-2.06-.94 2.06-2.06.94zm-11 1L8.5 8.5l.94-2.06 2.06-.94-2.06-.94L8.5 2.5l-.94 2.06-2.06.94zm10 10l.94 2.06.94-2.06 2.06-.94-2.06-.94-.94-2.06-.94 2.06-2.06.94z\"/><path d=\"M17.41 7.96l-1.37-1.37c-.4-.4-.92-.59-1.43-.59-.52 0-1.04.2-1.43.59L10.3 9.45l-7.72 7.72c-.78.78-.78 2.05 0 2.83L4 21.41c.39.39.9.59 1.41.59.51 0 1.02-.2 1.41-.59l7.78-7.78 2.81-2.81c.8-.78.8-2.07 0-2.86zM5.41 20L4 18.59l7.72-7.72 1.47 1.35L5.41 20z\"/>\n",
              "  </svg>\n",
              "      </button>\n",
              "      \n",
              "  <style>\n",
              "    .colab-df-container {\n",
              "      display:flex;\n",
              "      flex-wrap:wrap;\n",
              "      gap: 12px;\n",
              "    }\n",
              "\n",
              "    .colab-df-convert {\n",
              "      background-color: #E8F0FE;\n",
              "      border: none;\n",
              "      border-radius: 50%;\n",
              "      cursor: pointer;\n",
              "      display: none;\n",
              "      fill: #1967D2;\n",
              "      height: 32px;\n",
              "      padding: 0 0 0 0;\n",
              "      width: 32px;\n",
              "    }\n",
              "\n",
              "    .colab-df-convert:hover {\n",
              "      background-color: #E2EBFA;\n",
              "      box-shadow: 0px 1px 2px rgba(60, 64, 67, 0.3), 0px 1px 3px 1px rgba(60, 64, 67, 0.15);\n",
              "      fill: #174EA6;\n",
              "    }\n",
              "\n",
              "    [theme=dark] .colab-df-convert {\n",
              "      background-color: #3B4455;\n",
              "      fill: #D2E3FC;\n",
              "    }\n",
              "\n",
              "    [theme=dark] .colab-df-convert:hover {\n",
              "      background-color: #434B5C;\n",
              "      box-shadow: 0px 1px 3px 1px rgba(0, 0, 0, 0.15);\n",
              "      filter: drop-shadow(0px 1px 2px rgba(0, 0, 0, 0.3));\n",
              "      fill: #FFFFFF;\n",
              "    }\n",
              "  </style>\n",
              "\n",
              "      <script>\n",
              "        const buttonEl =\n",
              "          document.querySelector('#df-00a36394-6cbb-461b-a0d5-2ea4a58f3608 button.colab-df-convert');\n",
              "        buttonEl.style.display =\n",
              "          google.colab.kernel.accessAllowed ? 'block' : 'none';\n",
              "\n",
              "        async function convertToInteractive(key) {\n",
              "          const element = document.querySelector('#df-00a36394-6cbb-461b-a0d5-2ea4a58f3608');\n",
              "          const dataTable =\n",
              "            await google.colab.kernel.invokeFunction('convertToInteractive',\n",
              "                                                     [key], {});\n",
              "          if (!dataTable) return;\n",
              "\n",
              "          const docLinkHtml = 'Like what you see? Visit the ' +\n",
              "            '<a target=\"_blank\" href=https://colab.research.google.com/notebooks/data_table.ipynb>data table notebook</a>'\n",
              "            + ' to learn more about interactive tables.';\n",
              "          element.innerHTML = '';\n",
              "          dataTable['output_type'] = 'display_data';\n",
              "          await google.colab.output.renderOutput(dataTable, element);\n",
              "          const docLink = document.createElement('div');\n",
              "          docLink.innerHTML = docLinkHtml;\n",
              "          element.appendChild(docLink);\n",
              "        }\n",
              "      </script>\n",
              "    </div>\n",
              "  </div>\n",
              "  "
            ]
          },
          "metadata": {},
          "execution_count": 21
        }
      ],
      "source": [
        "data.head()"
      ]
    },
    {
      "cell_type": "markdown",
      "id": "994466f8",
      "metadata": {
        "id": "994466f8"
      },
      "source": [
        "# 8. Scalaing the data"
      ]
    },
    {
      "cell_type": "code",
      "execution_count": null,
      "id": "8c38a97e",
      "metadata": {
        "id": "8c38a97e",
        "colab": {
          "base_uri": "https://localhost:8080/",
          "height": 345
        },
        "outputId": "fbb64a54-8c91-48f8-cef7-7e0375cf310d"
      },
      "outputs": [
        {
          "output_type": "error",
          "ename": "ValueError",
          "evalue": "ignored",
          "traceback": [
            "\u001b[0;31m---------------------------------------------------------------------------\u001b[0m",
            "\u001b[0;31mValueError\u001b[0m                                Traceback (most recent call last)",
            "\u001b[0;32m<ipython-input-23-ffe336ae10de>\u001b[0m in \u001b[0;36m<module>\u001b[0;34m\u001b[0m\n\u001b[1;32m      1\u001b[0m \u001b[0;32mfrom\u001b[0m \u001b[0msklearn\u001b[0m\u001b[0;34m.\u001b[0m\u001b[0mpreprocessing\u001b[0m \u001b[0;32mimport\u001b[0m \u001b[0mStandardScaler\u001b[0m\u001b[0;34m\u001b[0m\u001b[0;34m\u001b[0m\u001b[0m\n\u001b[1;32m      2\u001b[0m \u001b[0mdf\u001b[0m\u001b[0;34m=\u001b[0m\u001b[0mStandardScaler\u001b[0m\u001b[0;34m(\u001b[0m\u001b[0;34m)\u001b[0m\u001b[0;34m\u001b[0m\u001b[0;34m\u001b[0m\u001b[0m\n\u001b[0;32m----> 3\u001b[0;31m \u001b[0mdata1\u001b[0m\u001b[0;34m=\u001b[0m\u001b[0mdf\u001b[0m\u001b[0;34m.\u001b[0m\u001b[0mfit_transform\u001b[0m\u001b[0;34m(\u001b[0m\u001b[0mdata\u001b[0m\u001b[0;34m)\u001b[0m\u001b[0;34m\u001b[0m\u001b[0;34m\u001b[0m\u001b[0m\n\u001b[0m",
            "\u001b[0;32m/usr/local/lib/python3.7/dist-packages/sklearn/base.py\u001b[0m in \u001b[0;36mfit_transform\u001b[0;34m(self, X, y, **fit_params)\u001b[0m\n\u001b[1;32m    850\u001b[0m         \u001b[0;32mif\u001b[0m \u001b[0my\u001b[0m \u001b[0;32mis\u001b[0m \u001b[0;32mNone\u001b[0m\u001b[0;34m:\u001b[0m\u001b[0;34m\u001b[0m\u001b[0;34m\u001b[0m\u001b[0m\n\u001b[1;32m    851\u001b[0m             \u001b[0;31m# fit method of arity 1 (unsupervised transformation)\u001b[0m\u001b[0;34m\u001b[0m\u001b[0;34m\u001b[0m\u001b[0;34m\u001b[0m\u001b[0m\n\u001b[0;32m--> 852\u001b[0;31m             \u001b[0;32mreturn\u001b[0m \u001b[0mself\u001b[0m\u001b[0;34m.\u001b[0m\u001b[0mfit\u001b[0m\u001b[0;34m(\u001b[0m\u001b[0mX\u001b[0m\u001b[0;34m,\u001b[0m \u001b[0;34m**\u001b[0m\u001b[0mfit_params\u001b[0m\u001b[0;34m)\u001b[0m\u001b[0;34m.\u001b[0m\u001b[0mtransform\u001b[0m\u001b[0;34m(\u001b[0m\u001b[0mX\u001b[0m\u001b[0;34m)\u001b[0m\u001b[0;34m\u001b[0m\u001b[0;34m\u001b[0m\u001b[0m\n\u001b[0m\u001b[1;32m    853\u001b[0m         \u001b[0;32melse\u001b[0m\u001b[0;34m:\u001b[0m\u001b[0;34m\u001b[0m\u001b[0;34m\u001b[0m\u001b[0m\n\u001b[1;32m    854\u001b[0m             \u001b[0;31m# fit method of arity 2 (supervised transformation)\u001b[0m\u001b[0;34m\u001b[0m\u001b[0;34m\u001b[0m\u001b[0;34m\u001b[0m\u001b[0m\n",
            "\u001b[0;32m/usr/local/lib/python3.7/dist-packages/sklearn/preprocessing/_data.py\u001b[0m in \u001b[0;36mfit\u001b[0;34m(self, X, y, sample_weight)\u001b[0m\n\u001b[1;32m    804\u001b[0m         \u001b[0;31m# Reset internal state before fitting\u001b[0m\u001b[0;34m\u001b[0m\u001b[0;34m\u001b[0m\u001b[0;34m\u001b[0m\u001b[0m\n\u001b[1;32m    805\u001b[0m         \u001b[0mself\u001b[0m\u001b[0;34m.\u001b[0m\u001b[0m_reset\u001b[0m\u001b[0;34m(\u001b[0m\u001b[0;34m)\u001b[0m\u001b[0;34m\u001b[0m\u001b[0;34m\u001b[0m\u001b[0m\n\u001b[0;32m--> 806\u001b[0;31m         \u001b[0;32mreturn\u001b[0m \u001b[0mself\u001b[0m\u001b[0;34m.\u001b[0m\u001b[0mpartial_fit\u001b[0m\u001b[0;34m(\u001b[0m\u001b[0mX\u001b[0m\u001b[0;34m,\u001b[0m \u001b[0my\u001b[0m\u001b[0;34m,\u001b[0m \u001b[0msample_weight\u001b[0m\u001b[0;34m)\u001b[0m\u001b[0;34m\u001b[0m\u001b[0;34m\u001b[0m\u001b[0m\n\u001b[0m\u001b[1;32m    807\u001b[0m \u001b[0;34m\u001b[0m\u001b[0m\n\u001b[1;32m    808\u001b[0m     \u001b[0;32mdef\u001b[0m \u001b[0mpartial_fit\u001b[0m\u001b[0;34m(\u001b[0m\u001b[0mself\u001b[0m\u001b[0;34m,\u001b[0m \u001b[0mX\u001b[0m\u001b[0;34m,\u001b[0m \u001b[0my\u001b[0m\u001b[0;34m=\u001b[0m\u001b[0;32mNone\u001b[0m\u001b[0;34m,\u001b[0m \u001b[0msample_weight\u001b[0m\u001b[0;34m=\u001b[0m\u001b[0;32mNone\u001b[0m\u001b[0;34m)\u001b[0m\u001b[0;34m:\u001b[0m\u001b[0;34m\u001b[0m\u001b[0;34m\u001b[0m\u001b[0m\n",
            "\u001b[0;32m/usr/local/lib/python3.7/dist-packages/sklearn/preprocessing/_data.py\u001b[0m in \u001b[0;36mpartial_fit\u001b[0;34m(self, X, y, sample_weight)\u001b[0m\n\u001b[1;32m    845\u001b[0m             \u001b[0mdtype\u001b[0m\u001b[0;34m=\u001b[0m\u001b[0mFLOAT_DTYPES\u001b[0m\u001b[0;34m,\u001b[0m\u001b[0;34m\u001b[0m\u001b[0;34m\u001b[0m\u001b[0m\n\u001b[1;32m    846\u001b[0m             \u001b[0mforce_all_finite\u001b[0m\u001b[0;34m=\u001b[0m\u001b[0;34m\"allow-nan\"\u001b[0m\u001b[0;34m,\u001b[0m\u001b[0;34m\u001b[0m\u001b[0;34m\u001b[0m\u001b[0m\n\u001b[0;32m--> 847\u001b[0;31m             \u001b[0mreset\u001b[0m\u001b[0;34m=\u001b[0m\u001b[0mfirst_call\u001b[0m\u001b[0;34m,\u001b[0m\u001b[0;34m\u001b[0m\u001b[0;34m\u001b[0m\u001b[0m\n\u001b[0m\u001b[1;32m    848\u001b[0m         )\n\u001b[1;32m    849\u001b[0m         \u001b[0mn_features\u001b[0m \u001b[0;34m=\u001b[0m \u001b[0mX\u001b[0m\u001b[0;34m.\u001b[0m\u001b[0mshape\u001b[0m\u001b[0;34m[\u001b[0m\u001b[0;36m1\u001b[0m\u001b[0;34m]\u001b[0m\u001b[0;34m\u001b[0m\u001b[0;34m\u001b[0m\u001b[0m\n",
            "\u001b[0;32m/usr/local/lib/python3.7/dist-packages/sklearn/base.py\u001b[0m in \u001b[0;36m_validate_data\u001b[0;34m(self, X, y, reset, validate_separately, **check_params)\u001b[0m\n\u001b[1;32m    564\u001b[0m             \u001b[0;32mraise\u001b[0m \u001b[0mValueError\u001b[0m\u001b[0;34m(\u001b[0m\u001b[0;34m\"Validation should be done on X, y or both.\"\u001b[0m\u001b[0;34m)\u001b[0m\u001b[0;34m\u001b[0m\u001b[0;34m\u001b[0m\u001b[0m\n\u001b[1;32m    565\u001b[0m         \u001b[0;32melif\u001b[0m \u001b[0;32mnot\u001b[0m \u001b[0mno_val_X\u001b[0m \u001b[0;32mand\u001b[0m \u001b[0mno_val_y\u001b[0m\u001b[0;34m:\u001b[0m\u001b[0;34m\u001b[0m\u001b[0;34m\u001b[0m\u001b[0m\n\u001b[0;32m--> 566\u001b[0;31m             \u001b[0mX\u001b[0m \u001b[0;34m=\u001b[0m \u001b[0mcheck_array\u001b[0m\u001b[0;34m(\u001b[0m\u001b[0mX\u001b[0m\u001b[0;34m,\u001b[0m \u001b[0;34m**\u001b[0m\u001b[0mcheck_params\u001b[0m\u001b[0;34m)\u001b[0m\u001b[0;34m\u001b[0m\u001b[0;34m\u001b[0m\u001b[0m\n\u001b[0m\u001b[1;32m    567\u001b[0m             \u001b[0mout\u001b[0m \u001b[0;34m=\u001b[0m \u001b[0mX\u001b[0m\u001b[0;34m\u001b[0m\u001b[0;34m\u001b[0m\u001b[0m\n\u001b[1;32m    568\u001b[0m         \u001b[0;32melif\u001b[0m \u001b[0mno_val_X\u001b[0m \u001b[0;32mand\u001b[0m \u001b[0;32mnot\u001b[0m \u001b[0mno_val_y\u001b[0m\u001b[0;34m:\u001b[0m\u001b[0;34m\u001b[0m\u001b[0;34m\u001b[0m\u001b[0m\n",
            "\u001b[0;32m/usr/local/lib/python3.7/dist-packages/sklearn/utils/validation.py\u001b[0m in \u001b[0;36mcheck_array\u001b[0;34m(array, accept_sparse, accept_large_sparse, dtype, order, copy, force_all_finite, ensure_2d, allow_nd, ensure_min_samples, ensure_min_features, estimator)\u001b[0m\n\u001b[1;32m    744\u001b[0m                     \u001b[0marray\u001b[0m \u001b[0;34m=\u001b[0m \u001b[0marray\u001b[0m\u001b[0;34m.\u001b[0m\u001b[0mastype\u001b[0m\u001b[0;34m(\u001b[0m\u001b[0mdtype\u001b[0m\u001b[0;34m,\u001b[0m \u001b[0mcasting\u001b[0m\u001b[0;34m=\u001b[0m\u001b[0;34m\"unsafe\"\u001b[0m\u001b[0;34m,\u001b[0m \u001b[0mcopy\u001b[0m\u001b[0;34m=\u001b[0m\u001b[0;32mFalse\u001b[0m\u001b[0;34m)\u001b[0m\u001b[0;34m\u001b[0m\u001b[0;34m\u001b[0m\u001b[0m\n\u001b[1;32m    745\u001b[0m                 \u001b[0;32melse\u001b[0m\u001b[0;34m:\u001b[0m\u001b[0;34m\u001b[0m\u001b[0;34m\u001b[0m\u001b[0m\n\u001b[0;32m--> 746\u001b[0;31m                     \u001b[0marray\u001b[0m \u001b[0;34m=\u001b[0m \u001b[0mnp\u001b[0m\u001b[0;34m.\u001b[0m\u001b[0masarray\u001b[0m\u001b[0;34m(\u001b[0m\u001b[0marray\u001b[0m\u001b[0;34m,\u001b[0m \u001b[0morder\u001b[0m\u001b[0;34m=\u001b[0m\u001b[0morder\u001b[0m\u001b[0;34m,\u001b[0m \u001b[0mdtype\u001b[0m\u001b[0;34m=\u001b[0m\u001b[0mdtype\u001b[0m\u001b[0;34m)\u001b[0m\u001b[0;34m\u001b[0m\u001b[0;34m\u001b[0m\u001b[0m\n\u001b[0m\u001b[1;32m    747\u001b[0m             \u001b[0;32mexcept\u001b[0m \u001b[0mComplexWarning\u001b[0m \u001b[0;32mas\u001b[0m \u001b[0mcomplex_warning\u001b[0m\u001b[0;34m:\u001b[0m\u001b[0;34m\u001b[0m\u001b[0;34m\u001b[0m\u001b[0m\n\u001b[1;32m    748\u001b[0m                 raise ValueError(\n",
            "\u001b[0;32m/usr/local/lib/python3.7/dist-packages/pandas/core/generic.py\u001b[0m in \u001b[0;36m__array__\u001b[0;34m(self, dtype)\u001b[0m\n\u001b[1;32m   1991\u001b[0m \u001b[0;34m\u001b[0m\u001b[0m\n\u001b[1;32m   1992\u001b[0m     \u001b[0;32mdef\u001b[0m \u001b[0m__array__\u001b[0m\u001b[0;34m(\u001b[0m\u001b[0mself\u001b[0m\u001b[0;34m,\u001b[0m \u001b[0mdtype\u001b[0m\u001b[0;34m:\u001b[0m \u001b[0mNpDtype\u001b[0m \u001b[0;34m|\u001b[0m \u001b[0;32mNone\u001b[0m \u001b[0;34m=\u001b[0m \u001b[0;32mNone\u001b[0m\u001b[0;34m)\u001b[0m \u001b[0;34m->\u001b[0m \u001b[0mnp\u001b[0m\u001b[0;34m.\u001b[0m\u001b[0mndarray\u001b[0m\u001b[0;34m:\u001b[0m\u001b[0;34m\u001b[0m\u001b[0;34m\u001b[0m\u001b[0m\n\u001b[0;32m-> 1993\u001b[0;31m         \u001b[0;32mreturn\u001b[0m \u001b[0mnp\u001b[0m\u001b[0;34m.\u001b[0m\u001b[0masarray\u001b[0m\u001b[0;34m(\u001b[0m\u001b[0mself\u001b[0m\u001b[0;34m.\u001b[0m\u001b[0m_values\u001b[0m\u001b[0;34m,\u001b[0m \u001b[0mdtype\u001b[0m\u001b[0;34m=\u001b[0m\u001b[0mdtype\u001b[0m\u001b[0;34m)\u001b[0m\u001b[0;34m\u001b[0m\u001b[0;34m\u001b[0m\u001b[0m\n\u001b[0m\u001b[1;32m   1994\u001b[0m \u001b[0;34m\u001b[0m\u001b[0m\n\u001b[1;32m   1995\u001b[0m     def __array_wrap__(\n",
            "\u001b[0;31mValueError\u001b[0m: could not convert string to float: 'Male'"
          ]
        }
      ],
      "source": [
        "from sklearn.preprocessing import StandardScaler\n",
        "df=StandardScaler()\n",
        "data1=df.fit_transform(data)"
      ]
    },
    {
      "cell_type": "code",
      "execution_count": null,
      "id": "b346d16d",
      "metadata": {
        "id": "b346d16d",
        "outputId": "1f3e5985-1b25-4611-f201-f162ca9feef0"
      },
      "outputs": [
        {
          "data": {
            "text/plain": [
              "array([[-1.7234121 ,  1.12815215, -1.42456879, -1.74542941, -0.43480148],\n",
              "       [-1.70609137,  1.12815215, -1.28103541, -1.74542941,  1.19570407],\n",
              "       [-1.68877065, -0.88640526, -1.3528021 , -1.70708307, -1.71591298],\n",
              "       [-1.67144992, -0.88640526, -1.13750203, -1.70708307,  1.04041783],\n",
              "       [-1.6541292 , -0.88640526, -0.56336851, -1.66873673, -0.39597992],\n",
              "       [-1.63680847, -0.88640526, -1.20926872, -1.66873673,  1.00159627],\n",
              "       [-1.61948775, -0.88640526, -0.27630176, -1.6303904 , -1.71591298],\n",
              "       [-1.60216702, -0.88640526, -1.13750203, -1.6303904 ,  1.70038436],\n",
              "       [-1.5848463 ,  1.12815215,  1.80493225, -1.59204406, -1.83237767],\n",
              "       [-1.56752558, -0.88640526, -0.6351352 , -1.59204406,  0.84631002],\n",
              "       [-1.55020485,  1.12815215,  2.02023231, -1.59204406, -1.4053405 ],\n",
              "       [-1.53288413, -0.88640526, -0.27630176, -1.59204406,  1.89449216],\n",
              "       [-1.5155634 , -0.88640526,  1.37433211, -1.55369772, -1.36651894],\n",
              "       [-1.49824268, -0.88640526, -1.06573534, -1.55369772,  1.04041783],\n",
              "       [-1.48092195,  1.12815215, -0.13276838, -1.55369772, -1.44416206],\n",
              "       [-1.46360123,  1.12815215, -1.20926872, -1.55369772,  1.11806095],\n",
              "       [-1.4462805 , -0.88640526, -0.27630176, -1.51535138, -0.59008772],\n",
              "       [-1.42895978,  1.12815215, -1.3528021 , -1.51535138,  0.61338066],\n",
              "       [-1.41163905,  1.12815215,  0.94373197, -1.43865871, -0.82301709],\n",
              "       [-1.39431833, -0.88640526, -0.27630176, -1.43865871,  1.8556706 ],\n",
              "       [-1.3769976 ,  1.12815215, -0.27630176, -1.40031237, -0.59008772],\n",
              "       [-1.35967688,  1.12815215, -0.99396865, -1.40031237,  0.88513158],\n",
              "       [-1.34235616, -0.88640526,  0.51313183, -1.36196603, -1.75473454],\n",
              "       [-1.32503543,  1.12815215, -0.56336851, -1.36196603,  0.88513158],\n",
              "       [-1.30771471, -0.88640526,  1.08726535, -1.24692702, -1.4053405 ],\n",
              "       [-1.29039398,  1.12815215, -0.70690189, -1.24692702,  1.23452563],\n",
              "       [-1.27307326, -0.88640526,  0.44136514, -1.24692702, -0.7065524 ],\n",
              "       [-1.25575253,  1.12815215, -0.27630176, -1.24692702,  0.41927286],\n",
              "       [-1.23843181, -0.88640526,  0.08253169, -1.20858069, -0.74537397],\n",
              "       [-1.22111108, -0.88640526, -1.13750203, -1.20858069,  1.42863343],\n",
              "       [-1.20379036,  1.12815215,  1.51786549, -1.17023435, -1.7935561 ],\n",
              "       [-1.18646963, -0.88640526, -1.28103541, -1.17023435,  0.88513158],\n",
              "       [-1.16914891,  1.12815215,  1.01549866, -1.05519534, -1.7935561 ],\n",
              "       [-1.15182818,  1.12815215, -1.49633548, -1.05519534,  1.62274124],\n",
              "       [-1.13450746, -0.88640526,  0.7284319 , -1.05519534, -1.4053405 ],\n",
              "       [-1.11718674, -0.88640526, -1.28103541, -1.05519534,  1.19570407],\n",
              "       [-1.09986601, -0.88640526,  0.22606507, -1.016849  , -1.28887582],\n",
              "       [-1.08254529, -0.88640526, -0.6351352 , -1.016849  ,  0.88513158],\n",
              "       [-1.06522456, -0.88640526, -0.20453507, -0.90180999, -0.93948177],\n",
              "       [-1.04790384, -0.88640526, -1.3528021 , -0.90180999,  0.96277471],\n",
              "       [-1.03058311, -0.88640526,  1.87669894, -0.86346365, -0.59008772],\n",
              "       [-1.01326239,  1.12815215, -1.06573534, -0.86346365,  1.62274124],\n",
              "       [-0.99594166,  1.12815215,  0.65666521, -0.82511731, -0.55126616],\n",
              "       [-0.97862094, -0.88640526, -0.56336851, -0.82511731,  0.41927286],\n",
              "       [-0.96130021, -0.88640526,  0.7284319 , -0.82511731, -0.86183865],\n",
              "       [-0.94397949, -0.88640526, -1.06573534, -0.82511731,  0.5745591 ],\n",
              "       [-0.92665877, -0.88640526,  0.80019859, -0.78677098,  0.18634349],\n",
              "       [-0.90933804, -0.88640526, -0.85043527, -0.78677098, -0.12422899],\n",
              "       [-0.89201732, -0.88640526, -0.70690189, -0.78677098, -0.3183368 ],\n",
              "       [-0.87469659, -0.88640526, -0.56336851, -0.78677098, -0.3183368 ],\n",
              "       [-0.85737587, -0.88640526,  0.7284319 , -0.7100783 ,  0.06987881],\n",
              "       [-0.84005514,  1.12815215, -0.41983513, -0.7100783 ,  0.38045129],\n",
              "       [-0.82273442, -0.88640526, -0.56336851, -0.67173196,  0.14752193],\n",
              "       [-0.80541369,  1.12815215,  1.4460988 , -0.67173196,  0.38045129],\n",
              "       [-0.78809297, -0.88640526,  0.80019859, -0.67173196, -0.20187212],\n",
              "       [-0.77077224,  1.12815215,  0.58489852, -0.67173196, -0.35715836],\n",
              "       [-0.75345152, -0.88640526,  0.87196528, -0.63338563, -0.00776431],\n",
              "       [-0.73613079,  1.12815215,  2.16376569, -0.63338563, -0.16305055],\n",
              "       [-0.71881007, -0.88640526, -0.85043527, -0.55669295,  0.03105725],\n",
              "       [-0.70148935,  1.12815215,  1.01549866, -0.55669295, -0.16305055],\n",
              "       [-0.68416862,  1.12815215,  2.23553238, -0.55669295,  0.22516505],\n",
              "       [-0.6668479 ,  1.12815215, -1.42456879, -0.55669295,  0.18634349],\n",
              "       [-0.64952717, -0.88640526,  2.02023231, -0.51834661,  0.06987881],\n",
              "       [-0.63220645, -0.88640526,  1.08726535, -0.51834661,  0.34162973],\n",
              "       [-0.61488572,  1.12815215,  1.73316556, -0.48000028,  0.03105725],\n",
              "       [-0.597565  ,  1.12815215, -1.49633548, -0.48000028,  0.34162973],\n",
              "       [-0.58024427, -0.88640526,  0.29783176, -0.48000028, -0.00776431],\n",
              "       [-0.56292355, -0.88640526,  2.091999  , -0.48000028, -0.08540743],\n",
              "       [-0.54560282,  1.12815215, -1.42456879, -0.48000028,  0.34162973],\n",
              "       [-0.5282821 , -0.88640526, -0.49160182, -0.48000028, -0.12422899],\n",
              "       [-0.51096138,  1.12815215,  2.23553238, -0.44165394,  0.18634349],\n",
              "       [-0.49364065, -0.88640526,  0.58489852, -0.44165394, -0.3183368 ],\n",
              "       [-0.47631993, -0.88640526,  1.51786549, -0.4033076 , -0.04658587],\n",
              "       [-0.4589992 , -0.88640526,  1.51786549, -0.4033076 ,  0.22516505],\n",
              "       [-0.44167848,  1.12815215,  1.4460988 , -0.24992225, -0.12422899],\n",
              "       [-0.42435775,  1.12815215, -0.92220196, -0.24992225,  0.14752193],\n",
              "       [-0.40703703, -0.88640526,  0.44136514, -0.24992225,  0.10870037],\n",
              "       [-0.3897163 ,  1.12815215,  0.08253169, -0.24992225, -0.08540743],\n",
              "       [-0.37239558, -0.88640526, -1.13750203, -0.24992225,  0.06987881],\n",
              "       [-0.35507485, -0.88640526,  0.7284319 , -0.24992225, -0.3183368 ],\n",
              "       [-0.33775413,  1.12815215,  1.30256542, -0.24992225,  0.03105725],\n",
              "       [-0.3204334 ,  1.12815215, -0.06100169, -0.24992225,  0.18634349],\n",
              "       [-0.30311268,  1.12815215,  2.02023231, -0.24992225, -0.35715836],\n",
              "       [-0.28579196, -0.88640526,  0.51313183, -0.24992225, -0.24069368],\n",
              "       [-0.26847123, -0.88640526, -1.28103541, -0.24992225,  0.26398661],\n",
              "       [-0.25115051,  1.12815215,  0.65666521, -0.24992225, -0.16305055],\n",
              "       [-0.23382978, -0.88640526,  1.15903204, -0.13488324,  0.30280817],\n",
              "       [-0.21650906, -0.88640526, -1.20926872, -0.13488324,  0.18634349],\n",
              "       [-0.19918833, -0.88640526, -0.34806844, -0.0965369 ,  0.38045129],\n",
              "       [-0.18186761, -0.88640526,  0.80019859, -0.0965369 , -0.16305055],\n",
              "       [-0.16454688, -0.88640526,  2.091999  , -0.05819057,  0.18634349],\n",
              "       [-0.14722616,  1.12815215, -1.49633548, -0.05819057, -0.35715836],\n",
              "       [-0.12990543,  1.12815215,  0.65666521, -0.01984423, -0.04658587],\n",
              "       [-0.11258471, -0.88640526,  0.08253169, -0.01984423, -0.39597992],\n",
              "       [-0.09526399, -0.88640526, -0.49160182, -0.01984423, -0.3183368 ],\n",
              "       [-0.07794326,  1.12815215, -1.06573534, -0.01984423,  0.06987881],\n",
              "       [-0.06062254, -0.88640526,  0.58489852, -0.01984423, -0.12422899],\n",
              "       [-0.04330181, -0.88640526, -0.85043527, -0.01984423, -0.00776431],\n",
              "       [-0.02598109,  1.12815215,  0.65666521,  0.01850211, -0.3183368 ],\n",
              "       [-0.00866036,  1.12815215, -1.3528021 ,  0.01850211, -0.04658587],\n",
              "       [ 0.00866036, -0.88640526, -1.13750203,  0.05684845, -0.35715836],\n",
              "       [ 0.02598109, -0.88640526,  0.7284319 ,  0.05684845, -0.08540743],\n",
              "       [ 0.04330181,  1.12815215,  2.02023231,  0.05684845,  0.34162973],\n",
              "       [ 0.06062254,  1.12815215, -0.92220196,  0.05684845,  0.18634349],\n",
              "       [ 0.07794326,  1.12815215,  0.7284319 ,  0.05684845,  0.22516505],\n",
              "       [ 0.09526399, -0.88640526, -1.28103541,  0.05684845, -0.3183368 ],\n",
              "       [ 0.11258471, -0.88640526,  1.94846562,  0.09519478, -0.00776431],\n",
              "       [ 0.12990543,  1.12815215,  1.08726535,  0.09519478, -0.16305055],\n",
              "       [ 0.14722616,  1.12815215,  2.091999  ,  0.09519478, -0.27951524],\n",
              "       [ 0.16454688,  1.12815215,  1.94846562,  0.09519478, -0.08540743],\n",
              "       [ 0.18186761,  1.12815215,  1.87669894,  0.09519478,  0.06987881],\n",
              "       [ 0.19918833, -0.88640526, -1.42456879,  0.09519478,  0.14752193],\n",
              "       [ 0.21650906, -0.88640526, -0.06100169,  0.13354112, -0.3183368 ],\n",
              "       [ 0.23382978,  1.12815215, -1.42456879,  0.13354112, -0.16305055],\n",
              "       [ 0.25115051, -0.88640526, -1.49633548,  0.17188746, -0.08540743],\n",
              "       [ 0.26847123, -0.88640526, -1.42456879,  0.17188746, -0.00776431],\n",
              "       [ 0.28579196, -0.88640526,  1.73316556,  0.17188746, -0.27951524],\n",
              "       [ 0.30311268, -0.88640526,  0.7284319 ,  0.17188746,  0.34162973],\n",
              "       [ 0.3204334 , -0.88640526,  0.87196528,  0.24858013, -0.27951524],\n",
              "       [ 0.33775413, -0.88640526,  0.80019859,  0.24858013,  0.26398661],\n",
              "       [ 0.35507485,  1.12815215, -0.85043527,  0.24858013,  0.22516505],\n",
              "       [ 0.37239558, -0.88640526, -0.06100169,  0.24858013, -0.39597992],\n",
              "       [ 0.3897163 , -0.88640526,  0.08253169,  0.32527281,  0.30280817],\n",
              "       [ 0.40703703,  1.12815215,  0.010765  ,  0.32527281,  1.58391968],\n",
              "       [ 0.42435775, -0.88640526, -1.13750203,  0.36361914, -0.82301709],\n",
              "       [ 0.44167848, -0.88640526, -0.56336851,  0.36361914,  1.04041783],\n",
              "       [ 0.4589992 ,  1.12815215,  0.29783176,  0.40196548, -0.59008772],\n",
              "       [ 0.47631993,  1.12815215,  0.08253169,  0.40196548,  1.73920592],\n",
              "       [ 0.49364065,  1.12815215,  1.4460988 ,  0.40196548, -1.52180518],\n",
              "       [ 0.51096138,  1.12815215, -0.06100169,  0.40196548,  0.96277471],\n",
              "       [ 0.5282821 ,  1.12815215,  0.58489852,  0.40196548, -1.5994483 ],\n",
              "       [ 0.54560282,  1.12815215,  0.010765  ,  0.40196548,  0.96277471],\n",
              "       [ 0.56292355, -0.88640526, -0.99396865,  0.44031182, -0.62890928],\n",
              "       [ 0.58024427, -0.88640526, -0.56336851,  0.44031182,  0.80748846],\n",
              "       [ 0.597565  ,  1.12815215, -1.3528021 ,  0.47865816, -1.75473454],\n",
              "       [ 0.61488572, -0.88640526, -0.70690189,  0.47865816,  1.46745499],\n",
              "       [ 0.63220645, -0.88640526,  0.36959845,  0.47865816, -1.67709142],\n",
              "       [ 0.64952717,  1.12815215, -0.49160182,  0.47865816,  0.88513158],\n",
              "       [ 0.6668479 ,  1.12815215, -1.42456879,  0.51700449, -1.56062674],\n",
              "       [ 0.68416862, -0.88640526, -0.27630176,  0.51700449,  0.84631002],\n",
              "       [ 0.70148935, -0.88640526,  1.30256542,  0.55535083, -1.75473454],\n",
              "       [ 0.71881007,  1.12815215, -0.49160182,  0.55535083,  1.6615628 ],\n",
              "       [ 0.73613079, -0.88640526, -0.77866858,  0.59369717, -0.39597992],\n",
              "       [ 0.75345152, -0.88640526, -0.49160182,  0.59369717,  1.42863343],\n",
              "       [ 0.77077224,  1.12815215, -0.99396865,  0.6320435 , -1.48298362],\n",
              "       [ 0.78809297,  1.12815215, -0.77866858,  0.6320435 ,  1.81684904],\n",
              "       [ 0.80541369,  1.12815215,  0.65666521,  0.6320435 , -0.55126616],\n",
              "       [ 0.82273442, -0.88640526, -0.49160182,  0.6320435 ,  0.92395314],\n",
              "       [ 0.84005514, -0.88640526, -0.34806844,  0.67038984, -1.09476801],\n",
              "       [ 0.85737587,  1.12815215, -0.34806844,  0.67038984,  1.54509812],\n",
              "       [ 0.87469659,  1.12815215,  0.29783176,  0.67038984, -1.28887582],\n",
              "       [ 0.89201732,  1.12815215,  0.010765  ,  0.67038984,  1.46745499],\n",
              "       [ 0.90933804, -0.88640526,  0.36959845,  0.67038984, -1.17241113],\n",
              "       [ 0.92665877, -0.88640526, -0.06100169,  0.67038984,  1.00159627],\n",
              "       [ 0.94397949, -0.88640526,  0.58489852,  0.67038984, -1.32769738],\n",
              "       [ 0.96130021, -0.88640526, -0.85043527,  0.67038984,  1.50627656],\n",
              "       [ 0.97862094,  1.12815215, -0.13276838,  0.67038984, -1.91002079],\n",
              "       [ 0.99594166, -0.88640526, -0.6351352 ,  0.67038984,  1.07923939],\n",
              "       [ 1.01326239,  1.12815215, -0.34806844,  0.67038984, -1.91002079],\n",
              "       [ 1.03058311, -0.88640526, -0.6351352 ,  0.67038984,  0.88513158],\n",
              "       [ 1.04790384, -0.88640526,  1.23079873,  0.70873618, -0.59008772],\n",
              "       [ 1.06522456, -0.88640526, -0.70690189,  0.70873618,  1.27334719],\n",
              "       [ 1.08254529,  1.12815215, -1.42456879,  0.78542885, -1.75473454],\n",
              "       [ 1.09986601, -0.88640526, -0.56336851,  0.78542885,  1.6615628 ],\n",
              "       [ 1.11718674,  1.12815215,  0.80019859,  0.9388142 , -0.93948177],\n",
              "       [ 1.13450746, -0.88640526, -0.20453507,  0.9388142 ,  0.96277471],\n",
              "       [ 1.15182818,  1.12815215,  0.22606507,  0.97716054, -1.17241113],\n",
              "       [ 1.16914891, -0.88640526, -0.41983513,  0.97716054,  1.73920592],\n",
              "       [ 1.18646963, -0.88640526, -0.20453507,  1.01550688, -0.90066021],\n",
              "       [ 1.20379036,  1.12815215, -0.49160182,  1.01550688,  0.49691598],\n",
              "       [ 1.22111108,  1.12815215,  0.08253169,  1.01550688, -1.44416206],\n",
              "       [ 1.23843181,  1.12815215, -0.77866858,  1.01550688,  0.96277471],\n",
              "       [ 1.25575253,  1.12815215, -0.20453507,  1.01550688, -1.56062674],\n",
              "       [ 1.27307326,  1.12815215, -0.20453507,  1.01550688,  1.62274124],\n",
              "       [ 1.29039398, -0.88640526,  0.94373197,  1.05385321, -1.44416206],\n",
              "       [ 1.30771471, -0.88640526, -0.6351352 ,  1.05385321,  1.38981187],\n",
              "       [ 1.32503543,  1.12815215,  1.37433211,  1.05385321, -1.36651894],\n",
              "       [ 1.34235616,  1.12815215, -0.85043527,  1.05385321,  0.72984534],\n",
              "       [ 1.35967688,  1.12815215,  1.4460988 ,  1.2455849 , -1.4053405 ],\n",
              "       [ 1.3769976 ,  1.12815215, -0.27630176,  1.2455849 ,  1.54509812],\n",
              "       [ 1.39431833, -0.88640526, -0.13276838,  1.39897025, -0.7065524 ],\n",
              "       [ 1.41163905, -0.88640526, -0.49160182,  1.39897025,  1.38981187],\n",
              "       [ 1.42895978,  1.12815215,  0.51313183,  1.43731659, -1.36651894],\n",
              "       [ 1.4462805 , -0.88640526, -0.70690189,  1.43731659,  1.46745499],\n",
              "       [ 1.46360123, -0.88640526,  0.15429838,  1.47566292, -0.43480148],\n",
              "       [ 1.48092195,  1.12815215, -0.6351352 ,  1.47566292,  1.81684904],\n",
              "       [ 1.49824268, -0.88640526,  1.08726535,  1.5523556 , -1.01712489],\n",
              "       [ 1.5155634 ,  1.12815215, -0.77866858,  1.5523556 ,  0.69102378],\n",
              "       [ 1.53288413, -0.88640526,  0.15429838,  1.62904827, -1.28887582],\n",
              "       [ 1.55020485, -0.88640526, -0.20453507,  1.62904827,  1.35099031],\n",
              "       [ 1.56752558, -0.88640526, -0.34806844,  1.62904827, -1.05594645],\n",
              "       [ 1.5848463 , -0.88640526, -0.49160182,  1.62904827,  0.72984534],\n",
              "       [ 1.60216702,  1.12815215, -0.41983513,  2.01251165, -1.63826986],\n",
              "       [ 1.61948775, -0.88640526, -0.06100169,  2.01251165,  1.58391968],\n",
              "       [ 1.63680847, -0.88640526,  0.58489852,  2.28093601, -1.32769738],\n",
              "       [ 1.6541292 , -0.88640526, -0.27630176,  2.28093601,  1.11806095],\n",
              "       [ 1.67144992, -0.88640526,  0.44136514,  2.51101403, -0.86183865],\n",
              "       [ 1.68877065,  1.12815215, -0.49160182,  2.51101403,  0.92395314],\n",
              "       [ 1.70609137,  1.12815215, -0.49160182,  2.76985181, -1.25005425],\n",
              "       [ 1.7234121 ,  1.12815215, -0.6351352 ,  2.76985181,  1.27334719]])"
            ]
          },
          "execution_count": 23,
          "metadata": {},
          "output_type": "execute_result"
        }
      ],
      "source": [
        "data1"
      ]
    },
    {
      "cell_type": "markdown",
      "id": "d78a8957",
      "metadata": {
        "id": "d78a8957"
      },
      "source": [
        "# 9. Perform any of the clustering algorithms"
      ]
    },
    {
      "cell_type": "code",
      "execution_count": null,
      "id": "8ff1b230",
      "metadata": {
        "id": "8ff1b230"
      },
      "outputs": [],
      "source": [
        "from sklearn.cluster import KMeans"
      ]
    },
    {
      "cell_type": "code",
      "execution_count": null,
      "id": "44aaeaea",
      "metadata": {
        "id": "44aaeaea"
      },
      "outputs": [],
      "source": [
        "data.drop('customer_id',axis=1,inplace=True)"
      ]
    },
    {
      "cell_type": "code",
      "execution_count": null,
      "id": "141512a1",
      "metadata": {
        "id": "141512a1"
      },
      "outputs": [],
      "source": [
        "km = KMeans(n_clusters=3, random_state=0)"
      ]
    },
    {
      "cell_type": "code",
      "execution_count": null,
      "id": "5a3a34d4",
      "metadata": {
        "id": "5a3a34d4",
        "outputId": "0f942b6f-0edb-494a-830d-c80451991021"
      },
      "outputs": [
        {
          "name": "stderr",
          "output_type": "stream",
          "text": [
            "C:\\Users\\karth\\anaconda3\\lib\\site-packages\\sklearn\\cluster\\_kmeans.py:1332: UserWarning: KMeans is known to have a memory leak on Windows with MKL, when there are less chunks than available threads. You can avoid it by setting the environment variable OMP_NUM_THREADS=1.\n",
            "  warnings.warn(\n"
          ]
        }
      ],
      "source": [
        "data['Group or Cluster'] = km.fit_predict(data)"
      ]
    },
    {
      "cell_type": "code",
      "execution_count": null,
      "id": "d93b027c",
      "metadata": {
        "id": "d93b027c",
        "outputId": "95106d6a-ef83-4006-b380-9d4d361e3188"
      },
      "outputs": [
        {
          "data": {
            "text/html": [
              "<div>\n",
              "<style scoped>\n",
              "    .dataframe tbody tr th:only-of-type {\n",
              "        vertical-align: middle;\n",
              "    }\n",
              "\n",
              "    .dataframe tbody tr th {\n",
              "        vertical-align: top;\n",
              "    }\n",
              "\n",
              "    .dataframe thead th {\n",
              "        text-align: right;\n",
              "    }\n",
              "</style>\n",
              "<table border=\"1\" class=\"dataframe\">\n",
              "  <thead>\n",
              "    <tr style=\"text-align: right;\">\n",
              "      <th></th>\n",
              "      <th>gender</th>\n",
              "      <th>age</th>\n",
              "      <th>annual_income</th>\n",
              "      <th>spending_scores</th>\n",
              "      <th>Group or Cluster</th>\n",
              "    </tr>\n",
              "  </thead>\n",
              "  <tbody>\n",
              "    <tr>\n",
              "      <th>0</th>\n",
              "      <td>1</td>\n",
              "      <td>19.0</td>\n",
              "      <td>15.0</td>\n",
              "      <td>39.0</td>\n",
              "      <td>2</td>\n",
              "    </tr>\n",
              "    <tr>\n",
              "      <th>1</th>\n",
              "      <td>1</td>\n",
              "      <td>21.0</td>\n",
              "      <td>15.0</td>\n",
              "      <td>81.0</td>\n",
              "      <td>2</td>\n",
              "    </tr>\n",
              "    <tr>\n",
              "      <th>2</th>\n",
              "      <td>0</td>\n",
              "      <td>20.0</td>\n",
              "      <td>16.0</td>\n",
              "      <td>6.0</td>\n",
              "      <td>2</td>\n",
              "    </tr>\n",
              "    <tr>\n",
              "      <th>3</th>\n",
              "      <td>0</td>\n",
              "      <td>23.0</td>\n",
              "      <td>16.0</td>\n",
              "      <td>77.0</td>\n",
              "      <td>2</td>\n",
              "    </tr>\n",
              "    <tr>\n",
              "      <th>4</th>\n",
              "      <td>0</td>\n",
              "      <td>31.0</td>\n",
              "      <td>17.0</td>\n",
              "      <td>40.0</td>\n",
              "      <td>2</td>\n",
              "    </tr>\n",
              "  </tbody>\n",
              "</table>\n",
              "</div>"
            ],
            "text/plain": [
              "   gender   age  annual_income  spending_scores  Group or Cluster\n",
              "0       1  19.0           15.0             39.0                 2\n",
              "1       1  21.0           15.0             81.0                 2\n",
              "2       0  20.0           16.0              6.0                 2\n",
              "3       0  23.0           16.0             77.0                 2\n",
              "4       0  31.0           17.0             40.0                 2"
            ]
          },
          "execution_count": 28,
          "metadata": {},
          "output_type": "execute_result"
        }
      ],
      "source": [
        "data.head()"
      ]
    },
    {
      "cell_type": "code",
      "execution_count": null,
      "id": "60652486",
      "metadata": {
        "scrolled": true,
        "id": "60652486",
        "outputId": "80875888-9c2d-4c0a-ec91-6177263d30cc"
      },
      "outputs": [
        {
          "data": {
            "text/plain": [
              "2    123\n",
              "1     39\n",
              "0     38\n",
              "Name: Group or Cluster, dtype: int64"
            ]
          },
          "execution_count": 29,
          "metadata": {},
          "output_type": "execute_result"
        }
      ],
      "source": [
        "data['Group or Cluster'].value_counts()"
      ]
    },
    {
      "cell_type": "code",
      "execution_count": null,
      "id": "6b6902f5",
      "metadata": {
        "id": "6b6902f5",
        "outputId": "c125940d-c613-453e-aab2-0eecf476296e"
      },
      "outputs": [
        {
          "data": {
            "image/png": "[encoded data removed]",
            "text/plain": [
              "<Figure size 1080x576 with 1 Axes>"
            ]
          },
          "metadata": {
            "needs_background": "light"
          },
          "output_type": "display_data"
        }
      ],
      "source": [
        "import matplotlib.pyplot as plt\n",
        "\n",
        "fig,ax = plt.subplots(figsize=(15,8))\n",
        "sns.scatterplot(x=data['annual_income'],\n",
        "                y=data['spending_scores'],\n",
        "                hue=data['Group or Cluster'],\n",
        "                palette='PuBuGn')\n",
        "plt.show()"
      ]
    },
    {
      "cell_type": "code",
      "execution_count": null,
      "id": "7a0b38eb",
      "metadata": {
        "id": "7a0b38eb",
        "outputId": "9fd7abb2-70ad-4dda-f3b4-7ffeb25e9a13"
      },
      "outputs": [
        {
          "data": {
            "text/plain": [
              "0.3842057644019546"
            ]
          },
          "execution_count": 31,
          "metadata": {},
          "output_type": "execute_result"
        }
      ],
      "source": [
        "from sklearn.metrics import silhouette_score, silhouette_samples\n",
        "score = silhouette_score(data, \n",
        "                         km.labels_, \n",
        "                         metric='euclidean')\n",
        "score"
      ]
    },
    {
      "cell_type": "code",
      "execution_count": null,
      "id": "2b6a6d76",
      "metadata": {
        "id": "2b6a6d76",
        "outputId": "d303921a-c1ed-4e4f-f634-52a1b0b53b3c"
      },
      "outputs": [
        {
          "name": "stderr",
          "output_type": "stream",
          "text": [
            "C:\\Users\\karth\\anaconda3\\lib\\site-packages\\sklearn\\cluster\\_kmeans.py:1332: UserWarning: KMeans is known to have a memory leak on Windows with MKL, when there are less chunks than available threads. You can avoid it by setting the environment variable OMP_NUM_THREADS=1.\n",
            "  warnings.warn(\n",
            "C:\\Users\\karth\\anaconda3\\lib\\site-packages\\sklearn\\cluster\\_kmeans.py:1332: UserWarning: KMeans is known to have a memory leak on Windows with MKL, when there are less chunks than available threads. You can avoid it by setting the environment variable OMP_NUM_THREADS=1.\n",
            "  warnings.warn(\n",
            "C:\\Users\\karth\\anaconda3\\lib\\site-packages\\sklearn\\cluster\\_kmeans.py:1332: UserWarning: KMeans is known to have a memory leak on Windows with MKL, when there are less chunks than available threads. You can avoid it by setting the environment variable OMP_NUM_THREADS=1.\n",
            "  warnings.warn(\n",
            "C:\\Users\\karth\\anaconda3\\lib\\site-packages\\sklearn\\cluster\\_kmeans.py:1332: UserWarning: KMeans is known to have a memory leak on Windows with MKL, when there are less chunks than available threads. You can avoid it by setting the environment variable OMP_NUM_THREADS=1.\n",
            "  warnings.warn(\n"
          ]
        },
        {
          "data": {
            "image/png": "[encoded data removed]",
            "text/plain": [
              "<Figure size 1440x1440 with 4 Axes>"
            ]
          },
          "metadata": {},
          "output_type": "display_data"
        }
      ],
      "source": [
        "import matplotlib.pyplot as plt\n",
        "from yellowbrick.cluster import SilhouetteVisualizer\n",
        "\n",
        "fig, ax = plt.subplots(2, 2, figsize=(20,20))\n",
        "for i in [2, 3, 4, 5]:\n",
        "    '''\n",
        "    Create KMeans instance for different number of clusters\n",
        "    '''\n",
        "    km = KMeans(n_clusters=i, \n",
        "                init='k-means++', \n",
        "                n_init=10, \n",
        "                max_iter=100, \n",
        "                random_state=0)\n",
        "    q, mod = divmod(i, 2)\n",
        "    '''\n",
        "    Create SilhouetteVisualizer instance with KMeans instance\n",
        "    Fit the visualizer\n",
        "    '''\n",
        "    visualizer = SilhouetteVisualizer(km, \n",
        "                                      colors='yellowbrick', \n",
        "                                      ax=ax[q-1][mod])\n",
        "    visualizer.fit(data)"
      ]
    },
    {
      "cell_type": "code",
      "execution_count": null,
      "id": "78b53d15",
      "metadata": {
        "id": "78b53d15"
      },
      "outputs": [],
      "source": []
    }
  ],
  "metadata": {
    "kernelspec": {
      "display_name": "Python 3 (ipykernel)",
      "language": "python",
      "name": "python3"
    },
    "language_info": {
      "codemirror_mode": {
        "name": "ipython",
        "version": 3
      },
      "file_extension": ".py",
      "mimetype": "text/x-python",
      "name": "python",
      "nbconvert_exporter": "python",
      "pygments_lexer": "ipython3",
      "version": "3.9.7"
    },
    "colab": {
      "provenance": [],
      "collapsed_sections": [
        "b24d7646"
      ]
    }
  },
  "nbformat": 4,
  "nbformat_minor": 5
}